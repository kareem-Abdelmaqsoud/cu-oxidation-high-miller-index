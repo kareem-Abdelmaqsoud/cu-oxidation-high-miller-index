{
 "cells": [
  {
   "cell_type": "markdown",
   "id": "176c40f1",
   "metadata": {},
   "source": [
    "# Bulk submission of VASP jobs to Laikapack\n",
    "\n",
    "This notebook will run a VASP calculation for each directory in a larger directory. i.e. the expected file structure is:\n",
    "\n",
    "```\n",
    "path\n",
    "├─ calculation_1\n",
    "   ├─ INCAR\n",
    "   ├─ POSCAR\n",
    "   ├─ POTCAR\n",
    "   ├─ KPOINTS\n",
    "├─ calculation_2\n",
    "   ├─ INCAR\n",
    "   ├─ POSCAR\n",
    "   ├─ POTCAR\n",
    "   ├─ KPOINTS\n",
    "├─ ...\n",
    "```\n",
    "\n",
    "I usually generate these files using ASE directly on Laikapack. This has to be done on one of the Docker images that includes VASP in order to properly set up the POTCAR (for most functionals). Alternatively, you can upload these files. As long as they are good VASP inputs, this script will do the rest of the work."
   ]
  },
  {
   "cell_type": "code",
   "execution_count": 1,
   "id": "7ae69cb5",
   "metadata": {},
   "outputs": [],
   "source": [
    "import os\n",
    "import yaml\n",
    "from tqdm import tqdm\n",
    "import pickle\n",
    "import pandas as pd\n",
    "import re\n",
    "import numpy as np\n",
    "from os import path as os_path"
   ]
  },
  {
   "cell_type": "markdown",
   "id": "0b29de63",
   "metadata": {},
   "source": [
    "## The script"
   ]
  },
  {
   "cell_type": "code",
   "execution_count": 2,
   "id": "97ac1918",
   "metadata": {},
   "outputs": [],
   "source": [
    "def run_VASP_batch(\n",
    "    path,\n",
    "    base_params,\n",
    "    exp_tag,\n",
    "    cpu_cores = 4,\n",
    "    memory = '8Gi',\n",
    "    select_only = None,\n",
    "):\n",
    "    '''\n",
    "    args:\n",
    "        path (str): the directory that contains your VASP directories\n",
    "        base_params: a yaml of parameters obtained from your template file\n",
    "        exp_tag: a string to identify this experiment/run/batch\n",
    "        cpu_cores: how many CPU cores for each individual VASP job\n",
    "        memory: how much memory for each individual VASP job\n",
    "        \n",
    "    If you submit more than your quota on Laikapack\n",
    "    (e.g. 100 8-core calculations), your quota will be filled to capacity\n",
    "    and the remainder of the jobs will wait for resources.\n",
    "    This scheduling is handled by Kubernetes/Laikapack and is outside\n",
    "    the scope of this script.\n",
    "    '''\n",
    "    \n",
    "    if select_only is not None:\n",
    "        paths = select_only\n",
    "    else:\n",
    "        paths = os.listdir(path)\n",
    "        \n",
    "    params = base_params.copy()\n",
    "    params['metadata']['namespace'] = 'kabdelma'\n",
    "    params['spec']['template']['spec']['containers'] = [params['spec']['template']['spec']['containers']]\n",
    "    container = params['spec']['template']['spec']['containers'][0]\n",
    "    \n",
    "    # Set the resource usage, which is assumed to be the same for all jobs\n",
    "    if cpu_cores is not None:\n",
    "\n",
    "        container['resources']['limits']['cpu'] = cpu_cores\n",
    "        container['resources']['requests']['cpu'] = cpu_cores\n",
    "        container['args'][0] = re.sub('-np \\d+', '-np '+str(cpu_cores), container['args'][0])\n",
    "    \n",
    "    if memory is not None:\n",
    "        container['resources']['limits']['memory'] = memory\n",
    "        container['resources']['requests']['memory'] = memory\n",
    "    for fid, directory in enumerate(tqdm(paths)):\n",
    "        \n",
    "        # Only run calculations on directories that have not been run already\n",
    "        if os_path.exists(path+'/'+directory+ \"/OUTCAR\")== False:  \n",
    "#         if directory in df_best.index.values:\n",
    "            # Set the necessary parameters for each job\n",
    "            params['metadata']['name'] = exp_tag + '-' + re.sub('_', '-', directory)\n",
    "            container['workingDir'] = path + '/' + directory\n",
    "            container['name'] = exp_tag + '-' + re.sub('_', '-', directory)\n",
    "\n",
    "            # # Write the job specification file\n",
    "            with open('job.yaml', 'w') as config_file:\n",
    "                yaml.dump(params, config_file, default_flow_style = False)\n",
    "\n",
    "            # Submit the job    \n",
    "            os.system('kubectl apply -f job.yaml > /dev/null')"
   ]
  },
  {
   "cell_type": "markdown",
   "id": "4a3516a3",
   "metadata": {},
   "source": [
    "## Running some jobs"
   ]
  },
  {
   "cell_type": "markdown",
   "id": "cde24c2f",
   "metadata": {},
   "source": [
    "1. Specify a kubernetes template file. If you don't have one, you can copy and modify the one at `/shared-scratch/ethan/vasp-job-submit/base.yaml`"
   ]
  },
  {
   "cell_type": "code",
   "execution_count": 3,
   "id": "f22fa15b",
   "metadata": {},
   "outputs": [],
   "source": [
    "template_file = 'base.yaml'"
   ]
  },
  {
   "cell_type": "markdown",
   "id": "204e4e54",
   "metadata": {},
   "source": [
    "Verify the parameters obtained from your template file:"
   ]
  },
  {
   "cell_type": "code",
   "execution_count": 4,
   "id": "3917b5d8",
   "metadata": {},
   "outputs": [
    {
     "data": {
      "text/plain": [
       "{'apiVersion': 'batch/v1',\n",
       " 'kind': 'Job',\n",
       " 'metadata': {'name': 'CHANGE_THIS', 'namespace': 'kabdelma'},\n",
       " 'spec': {'ttlSecondsAfterFinished': 7200,\n",
       "  'backoffLimit': 0,\n",
       "  'template': {'spec': {'affinity': {'nodeAffinity': {'requiredDuringSchedulingIgnoredDuringExecution': {'nodeSelectorTerms': [{'matchExpressions': [{'key': 'kubernetes.io/hostname',\n",
       "           'operator': 'NotIn',\n",
       "           'values': ['major-gator']}]}]}}},\n",
       "    'containers': {'name': 'CHANGE_THIS',\n",
       "     'image': 'ulissigroup/kubeflow_vasp:amptorch',\n",
       "     'imagePullPolicy': 'Always',\n",
       "     'resources': {'limits': {'cpu': 16,\n",
       "       'memory': '16Gi',\n",
       "       'nvidia.com/gpu': '0'},\n",
       "      'requests': {'cpu': 16, 'memory': '16Gi'}},\n",
       "     'volumeMounts': [{'mountPath': '/home/jovyan/shared-datasets/',\n",
       "       'name': 'shared-datasets'},\n",
       "      {'mountPath': '/home/jovyan/shared-scratch/', 'name': 'shared-scratch'},\n",
       "      {'mountPath': '/dev/shm', 'name': 'dshm'},\n",
       "      {'mountPath': '/home/jovyan/', 'name': 'workspace-cop-model'}],\n",
       "     'command': ['/bin/bash', '-c'],\n",
       "     'args': ['mpirun -np 16 --map-by hwthread /opt/vasp.6.1.2_pgi_mkl_beef/bin/vasp_std > vasp.out'],\n",
       "     'workingDir': '/home/jovyan/CHANGE_THIS'},\n",
       "    'restartPolicy': 'Never',\n",
       "    'volumes': [{'name': 'shared-datasets',\n",
       "      'persistentVolumeClaim': {'claimName': 'shared-datasets'}},\n",
       "     {'name': 'shared-scratch',\n",
       "      'persistentVolumeClaim': {'claimName': 'shared-scratch'}},\n",
       "     {'emptyDir': {'medium': 'Memory'}, 'name': 'dshm'},\n",
       "     {'name': 'workspace-cop-model',\n",
       "      'persistentVolumeClaim': {'claimName': 'workspace-cop-model'}}],\n",
       "    'priorityClassName': 'default-priority'}}}}"
      ]
     },
     "execution_count": 4,
     "metadata": {},
     "output_type": "execute_result"
    }
   ],
   "source": [
    "with open(template_file, 'r') as stream:\n",
    "    base_params = yaml.safe_load(stream)\n",
    "params = base_params.copy()\n",
    "params"
   ]
  },
  {
   "cell_type": "code",
   "execution_count": 5,
   "id": "07c4fc8b-3feb-4426-9ea4-cfed1134f604",
   "metadata": {},
   "outputs": [
    {
     "data": {
      "text/plain": [
       "{'apiVersion': 'batch/v1',\n",
       " 'kind': 'Job',\n",
       " 'metadata': {'name': 'CHANGE_THIS', 'namespace': 'kabdelma'},\n",
       " 'spec': {'ttlSecondsAfterFinished': 7200,\n",
       "  'backoffLimit': 0,\n",
       "  'template': {'spec': {'affinity': {'nodeAffinity': {'requiredDuringSchedulingIgnoredDuringExecution': {'nodeSelectorTerms': [{'matchExpressions': [{'key': 'kubernetes.io/hostname',\n",
       "           'operator': 'NotIn',\n",
       "           'values': ['major-gator']}]}]}}},\n",
       "    'containers': {'name': 'CHANGE_THIS',\n",
       "     'image': 'ulissigroup/kubeflow_vasp:amptorch',\n",
       "     'imagePullPolicy': 'Always',\n",
       "     'resources': {'limits': {'cpu': 16,\n",
       "       'memory': '16Gi',\n",
       "       'nvidia.com/gpu': '0'},\n",
       "      'requests': {'cpu': 16, 'memory': '16Gi'}},\n",
       "     'volumeMounts': [{'mountPath': '/home/jovyan/shared-datasets/',\n",
       "       'name': 'shared-datasets'},\n",
       "      {'mountPath': '/home/jovyan/shared-scratch/', 'name': 'shared-scratch'},\n",
       "      {'mountPath': '/dev/shm', 'name': 'dshm'},\n",
       "      {'mountPath': '/home/jovyan/', 'name': 'workspace-cop-model'}],\n",
       "     'command': ['/bin/bash', '-c'],\n",
       "     'args': ['mpirun -np 16 --map-by hwthread /opt/vasp.6.1.2_pgi_mkl_beef/bin/vasp_std > vasp.out'],\n",
       "     'workingDir': '/home/jovyan/CHANGE_THIS'},\n",
       "    'restartPolicy': 'Never',\n",
       "    'volumes': [{'name': 'shared-datasets',\n",
       "      'persistentVolumeClaim': {'claimName': 'shared-datasets'}},\n",
       "     {'name': 'shared-scratch',\n",
       "      'persistentVolumeClaim': {'claimName': 'shared-scratch'}},\n",
       "     {'emptyDir': {'medium': 'Memory'}, 'name': 'dshm'},\n",
       "     {'name': 'workspace-cop-model',\n",
       "      'persistentVolumeClaim': {'claimName': 'workspace-cop-model'}}],\n",
       "    'priorityClassName': 'default-priority'}}}}"
      ]
     },
     "execution_count": 5,
     "metadata": {},
     "output_type": "execute_result"
    }
   ],
   "source": [
    "base_params"
   ]
  },
  {
   "cell_type": "code",
   "execution_count": 6,
   "id": "db25f022-c86c-4e63-a680-df2e880bfc96",
   "metadata": {},
   "outputs": [],
   "source": [
    "base_params['metadata']['namespace'] = 'kabdelma'"
   ]
  },
  {
   "cell_type": "markdown",
   "id": "219a7801",
   "metadata": {},
   "source": [
    "2. Setup metadata for your jobs:"
   ]
  },
  {
   "cell_type": "code",
   "execution_count": 7,
   "id": "e789a59c",
   "metadata": {},
   "outputs": [],
   "source": [
    "# The path that contains your VASP directories\n",
    "# e.x. '/home/jovyan/shared-scratch/ethan/experiment_1/'\n",
    "path = '/home/jovyan/shared-scratch/kabdelma/high_miller_idx/vasp/slabs'\n",
    "\n",
    "# A string to identify your experiment. No underscores or capital letters!\n",
    "# e.x. 'ems-vasp-exp1'\n",
    "exp_tag = 'o2'"
   ]
  },
  {
   "cell_type": "markdown",
   "id": "a347d178",
   "metadata": {},
   "source": [
    "3. Run the script to create and submit the jobs:"
   ]
  },
  {
   "cell_type": "code",
   "execution_count": 8,
   "id": "e008afdc",
   "metadata": {
    "scrolled": true,
    "tags": []
   },
   "outputs": [
    {
     "name": "stderr",
     "output_type": "stream",
     "text": [
      "100%|██████████| 36/36 [00:07<00:00,  4.57it/s]\n"
     ]
    }
   ],
   "source": [
    "run_VASP_batch(\n",
    "    path = path,\n",
    "    base_params = base_params,\n",
    "    exp_tag = exp_tag,\n",
    "    cpu_cores = 16,\n",
    "    memory = '32Gi'\n",
    ")"
   ]
  },
  {
   "cell_type": "code",
   "execution_count": null,
   "id": "9e3b0bea-e525-440b-8155-090214759c68",
   "metadata": {},
   "outputs": [],
   "source": []
  },
  {
   "cell_type": "code",
   "execution_count": null,
   "id": "ec9de1fb",
   "metadata": {},
   "outputs": [],
   "source": []
  }
 ],
 "metadata": {
  "kernelspec": {
   "display_name": "Python 3 (ipykernel)",
   "language": "python",
   "name": "python3"
  },
  "language_info": {
   "codemirror_mode": {
    "name": "ipython",
    "version": 3
   },
   "file_extension": ".py",
   "mimetype": "text/x-python",
   "name": "python",
   "nbconvert_exporter": "python",
   "pygments_lexer": "ipython3",
   "version": "3.9.15"
  },
  "vscode": {
   "interpreter": {
    "hash": "d4d1e4263499bec80672ea0156c357c1ee493ec2b1c70f0acce89fc37c4a6abe"
   }
  }
 },
 "nbformat": 4,
 "nbformat_minor": 5
}
