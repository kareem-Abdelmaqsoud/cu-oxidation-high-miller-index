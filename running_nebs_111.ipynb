{
 "cells": [
  {
   "cell_type": "code",
   "execution_count": 1,
   "metadata": {},
   "outputs": [],
   "source": [
    "# from adsorbate_slab_config_fixed_seed import AdsorbateSlabConfig\n",
    "from ocdata.core import Adsorbate, Bulk, Slab \n",
    "from ocdata.utils.vasp import write_vasp_input_files\n",
    "from ocdata.core import Adsorbate, AdsorbateSlabConfig, Bulk, Slab\n",
    "from ase.io import read\n",
    "import numpy as np\n",
    "from random import randint\n",
    "import pandas as pd\n",
    "from ase.io.trajectory import Trajectory\n",
    "from tqdm import tqdm\n",
    "import matplotlib.pyplot as plt\n",
    "from ase import Atoms\n",
    "from x3dase.x3d import X3D\n",
    "from ase.constraints import FixAtoms\n",
    "import warnings\n",
    "warnings.filterwarnings('ignore')"
   ]
  },
  {
   "cell_type": "markdown",
   "metadata": {},
   "source": [
    "## (111) surface"
   ]
  },
  {
   "cell_type": "markdown",
   "metadata": {},
   "source": [
    "## Add spin polarization"
   ]
  },
  {
   "cell_type": "code",
   "execution_count": 2,
   "metadata": {},
   "outputs": [],
   "source": [
    "# bulk = Bulk(bulk_src_id_from_db = \"mp-30\",\n",
    "# bulk_db_path = \"/home/jovyan/shared-scratch/kabdelma/Open-Catalyst-Dataset/ocdata/databases/pkls/bulks.pkl\")\n",
    "# slabs = Slab.from_bulk_get_specific_millers((2,1,1), bulk = bulk,)\n",
    "# slab = slabs[0]"
   ]
  },
  {
   "cell_type": "code",
   "execution_count": 2,
   "metadata": {},
   "outputs": [],
   "source": [
    "bulk = Bulk(bulk_src_id_from_db = \"mp-30\",\n",
    "bulk_db_path = \"/home/jovyan/shared-scratch/kabdelma/Open-Catalyst-Dataset/ocdata/databases/pkls/bulks.pkl\")\n",
    "slab_atoms = Slab.from_bulk_get_specific_millers((1,1,1), bulk = bulk)[0].atoms\n",
    "# del slab_atoms[[aa.index for aa in slab_atoms if aa.position[1] < 15.38]]\n",
    "# slab_atoms.constraints = FixAtoms(indices = [aa.index for aa in slab_atoms if aa.position[2] < 19.14])\n",
    "# slab_atoms.center(vacuum=15/2, axis=2)\n",
    "# print(len(slab_atoms.constraints[0].index))\n",
    "# len(slab_atoms)"
   ]
  },
  {
   "cell_type": "code",
   "execution_count": 5,
   "metadata": {},
   "outputs": [],
   "source": [
    "with Trajectory(filename=\"atoms.traj\"\n",
    "                , mode='w') as traj:\n",
    "    traj.write(slab_atoms,)"
   ]
  },
  {
   "cell_type": "code",
   "execution_count": 27,
   "metadata": {},
   "outputs": [],
   "source": [
    "X3D(slab_atoms).write(\"atoms.html\")"
   ]
  },
  {
   "cell_type": "markdown",
   "metadata": {},
   "source": [
    "## create the initial structure"
   ]
  },
  {
   "cell_type": "code",
   "execution_count": 7,
   "metadata": {},
   "outputs": [],
   "source": [
    "from ase.build import molecule\n",
    "# slab atoms\n",
    "atoms = slab_atoms.copy()\n",
    "# Adsorbate atoms.\n",
    "ads = molecule(\"O2\")\n",
    "ads.rotate(-90, 'y')\n",
    "height = 10.\n",
    "# Add one adsorbate.\n",
    "site = [40,]\n",
    "position = np.average([aa.position for aa in atoms[site]], axis=0)\n",
    "position[1] += 0\n",
    "position[2] += 5\n",
    "ads_new = ads.copy()\n",
    "ads_new.translate(position)\n",
    "atoms += ads_new"
   ]
  },
  {
   "cell_type": "code",
   "execution_count": 8,
   "metadata": {},
   "outputs": [],
   "source": [
    "X3D(atoms).write(\"/home/jovyan/shared-scratch/kabdelma/high_miller_idx/nebs/111/calculation_1/initial_structure/atoms.html\")"
   ]
  },
  {
   "cell_type": "code",
   "execution_count": 9,
   "metadata": {},
   "outputs": [],
   "source": [
    "# write_vasp_input_files(atoms, \n",
    "#         outdir = \"/home/jovyan/shared-scratch/kabdelma/high_miller_idx/nebs/211/calculation_1/initial_structure\")"
   ]
  },
  {
   "cell_type": "code",
   "execution_count": 10,
   "metadata": {},
   "outputs": [],
   "source": [
    "with Trajectory(filename=\"/home/jovyan/shared-scratch/kabdelma/high_miller_idx/nebs/111/calculation_1/initial_structure/atoms.traj\"\n",
    "                , mode='w') as traj:\n",
    "    traj.write(atoms,)"
   ]
  },
  {
   "cell_type": "markdown",
   "metadata": {},
   "source": [
    "# create the final structure"
   ]
  },
  {
   "cell_type": "code",
   "execution_count": 11,
   "metadata": {},
   "outputs": [],
   "source": [
    "# slab atoms\n",
    "atoms = slab_atoms.copy()\n",
    "# Adsorbate atoms.\n",
    "ads = Atoms(\"O\")\n",
    "height = 10.\n",
    "# Add one adsorbate.\n",
    "site = [16, 40,]\n",
    "position = np.average([aa.position for aa in atoms[site]], axis=0)\n",
    "# position[1] += 0.2\n",
    "position[2] += 0.7\n",
    "ads_new = ads.copy()\n",
    "ads_new.translate(position)\n",
    "atoms += ads_new"
   ]
  },
  {
   "cell_type": "code",
   "execution_count": 12,
   "metadata": {},
   "outputs": [],
   "source": [
    "# Adsorbate atoms.\n",
    "ads = Atoms(\"O\")\n",
    "height = 10.\n",
    "# Add one adsorbate.\n",
    "site = [40, 64]\n",
    "position = np.average([aa.position for aa in atoms[site]], axis=0)\n",
    "# position[1] += 0.2\n",
    "position[2] += 0.7\n",
    "ads_new = ads.copy()\n",
    "ads_new.translate(position)\n",
    "atoms += ads_new"
   ]
  },
  {
   "cell_type": "code",
   "execution_count": 13,
   "metadata": {},
   "outputs": [],
   "source": [
    "X3D(atoms).write(\"/home/jovyan/shared-scratch/kabdelma/high_miller_idx/nebs/111/calculation_1/final_structure/atoms.html\")"
   ]
  },
  {
   "cell_type": "code",
   "execution_count": 14,
   "metadata": {},
   "outputs": [],
   "source": [
    "# write_vasp_input_files(atoms, \n",
    "#         outdir = \"/home/jovyan/shared-scratch/kabdelma/high_miller_idx/nebs/211/calculation_1/final_structure\")"
   ]
  },
  {
   "cell_type": "code",
   "execution_count": 15,
   "metadata": {},
   "outputs": [],
   "source": [
    "with Trajectory(filename=\"/home/jovyan/shared-scratch/kabdelma/high_miller_idx/nebs/111/calculation_1/final_structure/atoms.traj\"\n",
    "        , mode='w') as traj:\n",
    "    traj.write(atoms,)"
   ]
  },
  {
   "cell_type": "markdown",
   "metadata": {},
   "source": [
    "## configuration 2"
   ]
  },
  {
   "cell_type": "code",
   "execution_count": 16,
   "metadata": {},
   "outputs": [],
   "source": [
    "# slab atoms\n",
    "atoms = slab_atoms.copy()\n",
    "# Adsorbate atoms.\n",
    "ads = molecule(\"O2\")\n",
    "ads.rotate(-90, 'y')\n",
    "ads.rotate(-90, 'z')\n",
    "height = 10.\n",
    "# Add one adsorbate.\n",
    "site = [40,64]\n",
    "position = np.average([aa.position for aa in atoms[site]], axis=0)\n",
    "position[1] += 0\n",
    "position[2] += 5\n",
    "ads_new = ads.copy()\n",
    "ads_new.translate(position)\n",
    "atoms += ads_new"
   ]
  },
  {
   "cell_type": "code",
   "execution_count": 17,
   "metadata": {},
   "outputs": [],
   "source": [
    "X3D(atoms).write(\"/home/jovyan/shared-scratch/kabdelma/high_miller_idx/nebs/111/calculation_2/initial_structure/atoms.html\")"
   ]
  },
  {
   "cell_type": "code",
   "execution_count": 18,
   "metadata": {},
   "outputs": [],
   "source": [
    "# write_vasp_input_files(atoms, \n",
    "#         outdir = \"/home/jovyan/shared-scratch/kabdelma/high_miller_idx/nebs/211/calculation_2/initial_structure\")"
   ]
  },
  {
   "cell_type": "code",
   "execution_count": 19,
   "metadata": {},
   "outputs": [],
   "source": [
    "with Trajectory(filename=\"/home/jovyan/shared-scratch/kabdelma/high_miller_idx/nebs/111/calculation_2/initial_structure/atoms.traj\"\n",
    "        , mode='w') as traj:\n",
    "    traj.write(atoms,)"
   ]
  },
  {
   "cell_type": "markdown",
   "metadata": {},
   "source": [
    "## final structure"
   ]
  },
  {
   "cell_type": "code",
   "execution_count": 20,
   "metadata": {},
   "outputs": [],
   "source": [
    "# slab atoms\n",
    "atoms = slab_atoms.copy()\n",
    "# Adsorbate atoms.\n",
    "ads = Atoms(\"O\")\n",
    "height = 10.\n",
    "# Add one adsorbate.\n",
    "site = [40, 64, 70,]\n",
    "position = np.average([aa.position for aa in atoms[site]], axis=0)\n",
    "position[1] += 0.2\n",
    "position[2] += 0.7\n",
    "ads_new = ads.copy()\n",
    "ads_new.translate(position)\n",
    "atoms += ads_new"
   ]
  },
  {
   "cell_type": "code",
   "execution_count": 21,
   "metadata": {},
   "outputs": [],
   "source": [
    "# Adsorbate atoms.\n",
    "ads = Atoms(\"O\")\n",
    "height = 10.\n",
    "# Add one adsorbate.\n",
    "site = [40, 64, 34]\n",
    "position = np.average([aa.position for aa in atoms[site]], axis=0)\n",
    "# position[1] += 0.2\n",
    "position[2] += 0.7\n",
    "ads_new = ads.copy()\n",
    "ads_new.translate(position)\n",
    "atoms += ads_new"
   ]
  },
  {
   "cell_type": "code",
   "execution_count": 22,
   "metadata": {},
   "outputs": [],
   "source": [
    "X3D(atoms).write(\"/home/jovyan/shared-scratch/kabdelma/high_miller_idx/nebs/111/calculation_2/final_structure/atoms.html\")"
   ]
  },
  {
   "cell_type": "code",
   "execution_count": 23,
   "metadata": {},
   "outputs": [],
   "source": [
    "with Trajectory(filename=\"/home/jovyan/shared-scratch/kabdelma/high_miller_idx/nebs/111/calculation_2/final_structure/atoms.traj\"\n",
    "        , mode='w') as traj:\n",
    "    traj.write(atoms,)"
   ]
  },
  {
   "cell_type": "code",
   "execution_count": 43,
   "metadata": {},
   "outputs": [],
   "source": [
    "# write_vasp_input_files(atoms, \n",
    "#         outdir = \"/home/jovyan/shared-scratch/kabdelma/high_miller_idx/nebs/211/calculation_2/final_structure\")"
   ]
  },
  {
   "cell_type": "markdown",
   "metadata": {},
   "source": [
    "## Configuration 3"
   ]
  },
  {
   "cell_type": "code",
   "execution_count": 24,
   "metadata": {},
   "outputs": [],
   "source": [
    "# slab atoms\n",
    "atoms = slab_atoms.copy()\n",
    "# Adsorbate atoms.\n",
    "ads = molecule(\"O2\")\n",
    "ads.rotate(-90, 'y')\n",
    "# ads.rotate(-90, 'z')\n",
    "height = 10.\n",
    "# Add one adsorbate.\n",
    "site = [40]\n",
    "position = np.average([aa.position for aa in atoms[site]], axis=0)\n",
    "position[1] += 0\n",
    "position[2] += 5\n",
    "ads_new = ads.copy()\n",
    "ads_new.translate(position)\n",
    "atoms += ads_new"
   ]
  },
  {
   "cell_type": "code",
   "execution_count": 25,
   "metadata": {},
   "outputs": [],
   "source": [
    "X3D(atoms).write(\"/home/jovyan/shared-scratch/kabdelma/high_miller_idx/nebs/111/calculation_3/initial_structure/atoms.html\")"
   ]
  },
  {
   "cell_type": "code",
   "execution_count": 26,
   "metadata": {},
   "outputs": [],
   "source": [
    "# write_vasp_input_files(atoms, \n",
    "#         outdir = \"/home/jovyan/shared-scratch/kabdelma/high_miller_idx/nebs/211/calculation_3/initial_structure\")"
   ]
  },
  {
   "cell_type": "code",
   "execution_count": 27,
   "metadata": {},
   "outputs": [],
   "source": [
    "with Trajectory(filename=\"/home/jovyan/shared-scratch/kabdelma/high_miller_idx/nebs/111/calculation_3/initial_structure/atoms.traj\"\n",
    "        , mode='w') as traj:\n",
    "    traj.write(atoms,)"
   ]
  },
  {
   "cell_type": "code",
   "execution_count": 28,
   "metadata": {},
   "outputs": [],
   "source": [
    "# slab atoms\n",
    "atoms = slab_atoms.copy()\n",
    "# Adsorbate atoms.\n",
    "ads = Atoms(\"O\")\n",
    "height = 10.\n",
    "# Add one adsorbate.\n",
    "site = [40, 16, 46,]\n",
    "position = np.average([aa.position for aa in atoms[site]], axis=0)\n",
    "position[1] += 0.2\n",
    "position[2] += 0.7\n",
    "ads_new = ads.copy()\n",
    "ads_new.translate(position)\n",
    "atoms += ads_new"
   ]
  },
  {
   "cell_type": "code",
   "execution_count": 30,
   "metadata": {},
   "outputs": [],
   "source": [
    "# Adsorbate atoms.\n",
    "ads = Atoms(\"O\")\n",
    "height = 10.\n",
    "# Add one adsorbate.\n",
    "site = [40, 64, 70,]\n",
    "position = np.average([aa.position for aa in atoms[site]], axis=0)\n",
    "position[1] += 0.2\n",
    "position[2] += 0.7\n",
    "ads_new = ads.copy()\n",
    "ads_new.translate(position)\n",
    "atoms += ads_new"
   ]
  },
  {
   "cell_type": "code",
   "execution_count": 31,
   "metadata": {},
   "outputs": [],
   "source": [
    "X3D(atoms).write(\"/home/jovyan/shared-scratch/kabdelma/high_miller_idx/nebs/111/calculation_3/final_structure/atoms.html\")"
   ]
  },
  {
   "cell_type": "code",
   "execution_count": 32,
   "metadata": {},
   "outputs": [],
   "source": [
    "# write_vasp_input_files(atoms, \n",
    "#         outdir = \"/home/jovyan/shared-scratch/kabdelma/high_miller_idx/nebs/211/calculation_3/final_structure\")"
   ]
  },
  {
   "cell_type": "code",
   "execution_count": 33,
   "metadata": {},
   "outputs": [],
   "source": [
    "with Trajectory(filename=\"/home/jovyan/shared-scratch/kabdelma/high_miller_idx/nebs/111/calculation_3/final_structure/atoms.traj\"\n",
    "        , mode='w') as traj:\n",
    "    traj.write(atoms,)"
   ]
  },
  {
   "cell_type": "code",
   "execution_count": null,
   "metadata": {},
   "outputs": [],
   "source": []
  }
 ],
 "metadata": {
  "kernelspec": {
   "display_name": "base",
   "language": "python",
   "name": "python3"
  },
  "language_info": {
   "codemirror_mode": {
    "name": "ipython",
    "version": 3
   },
   "file_extension": ".py",
   "mimetype": "text/x-python",
   "name": "python",
   "nbconvert_exporter": "python",
   "pygments_lexer": "ipython3",
   "version": "3.9.15"
  }
 },
 "nbformat": 4,
 "nbformat_minor": 2
}
