{
 "cells": [
  {
   "cell_type": "code",
   "execution_count": 1,
   "metadata": {},
   "outputs": [],
   "source": [
    "# from adsorbate_slab_config_fixed_seed import AdsorbateSlabConfig\n",
    "from ocdata.core import Adsorbate, Bulk, Slab \n",
    "from ocdata.utils import DetectTrajAnomaly\n",
    "from ocdata.utils.vasp import write_vasp_input_files\n",
    "from ocdata.core import Adsorbate, AdsorbateSlabConfig, Bulk, Slab\n",
    "from ocpmodels.preprocessing import AtomsToGraphs\n",
    "from ocpmodels.datasets import LmdbDataset as LD\n",
    "import torch \n",
    "import ase\n",
    "import lmdb\n",
    "import pickle\n",
    "import yaml\n",
    "import os\n",
    "import uuid\n",
    "from ase.io import read\n",
    "from glob import glob\n",
    "import numpy as np\n",
    "from random import randint\n",
    "import pandas as pd\n",
    "from dscribe.descriptors import SOAP\n",
    "from ase.io.trajectory import Trajectory\n",
    "from scipy.spatial.distance import pdist, squareform\n",
    "from tqdm import tqdm\n",
    "import matplotlib.pyplot as plt\n",
    "import warnings\n",
    "warnings.filterwarnings('ignore')"
   ]
  },
  {
   "cell_type": "markdown",
   "metadata": {},
   "source": [
    "## Slab vasp inputs"
   ]
  },
  {
   "cell_type": "code",
   "execution_count": 2,
   "metadata": {},
   "outputs": [],
   "source": [
    "# miller_idx_list = [(2,2,1), (3,1,1), (3,2,1), (3,3,1), (3,1,0), (4,3,1), (4,1,0), (4,3,3), (4,3,2), (5,3,1), (5,4,3), (5,4,4), (5,2,1), (5,3,0), (5,5,1),\n",
    "# (5,3,2),(5,5,3),(5,5,4),(5,1,1),(5,2,3),(6,4,1),(6,3,2),(6,5,1),(6,1,1),(6,5,3),(6,4,3),(6,6,4)]\n",
    "# for miller_idx in tqdm(miller_idx_list): \n",
    "#     bulk = Bulk(bulk_src_id_from_db = \"mp-30\",\n",
    "#             bulk_db_path = \"../Open-Catalyst-Dataset/ocdata/databases/pkls/bulks.pkl\")\n",
    "#     slabs = Slab.from_bulk_get_specific_millers(miller_idx, bulk = bulk,)\n",
    "#     atoms = slabs[0].atoms\n",
    "#     write_vasp_input_files(atoms, outdir = f\"vasp/slabs/mp_30_{miller_idx[0]}_{miller_idx[1]}_{miller_idx[2]}\")"
   ]
  },
  {
   "cell_type": "markdown",
   "metadata": {},
   "source": [
    "## Adslab vasp inputs -- AdsorbML"
   ]
  },
  {
   "cell_type": "code",
   "execution_count": 3,
   "metadata": {},
   "outputs": [],
   "source": [
    "a2g = AtomsToGraphs(\n",
    "    max_neigh=50,\n",
    "    radius=6,\n",
    "    r_energy=False,    # False for test data\n",
    "    r_forces=False,    # False for test data\n",
    "    r_distances=False,\n",
    "    r_fixed=True,\n",
    ")\n",
    "ml_relax_db = lmdb.open(\n",
    "    \"/home/jovyan/shared-scratch/kabdelma/high_miller_idx/lmdbs/ml_relax/adsorbml_relax_3.lmdb\",\n",
    "    map_size=1099511627776 * 2,\n",
    "    subdir=False,\n",
    "    meminit=False,\n",
    "    map_async=True,\n",
    ")"
   ]
  },
  {
   "cell_type": "code",
   "execution_count": 80,
   "metadata": {},
   "outputs": [
    {
     "name": "stderr",
     "output_type": "stream",
     "text": [
      "  0%|          | 0/5 [00:00<?, ?it/s]"
     ]
    },
    {
     "name": "stderr",
     "output_type": "stream",
     "text": [
      "100%|██████████| 5/5 [12:17<00:00, 147.45s/it]\n"
     ]
    }
   ],
   "source": [
    "# miller_idx_list = [(2,2,1), (3,1,1), (3,2,1), (3,3,1), (3,1,0), (4,3,1), (4,1,0), (4,3,3), (4,3,2), (5,3,1), (5,4,3), (5,4,4), (5,2,1), (5,3,0), (5,5,1),\n",
    "# (5,3,2),(5,5,3),(5,5,4),(5,1,1),(5,2,3),(6,4,1),(6,3,2),(6,5,1),(6,1,1),(6,5,3),(6,4,3),(6,6,4)]\n",
    "miller_idx_list = [(3,2,2), (3,3,2), (2, 3, 2), (4,5,4)]\n",
    "idx = 0\n",
    "for miller_idx in tqdm(miller_idx_list): \n",
    "        bulk = Bulk(bulk_src_id_from_db = \"mp-30\",\n",
    "        bulk_db_path = \"/home/jovyan/shared-scratch/kabdelma/Open-Catalyst-Dataset/ocdata/databases/pkls/bulks.pkl\")\n",
    "        slabs = Slab.from_bulk_get_specific_millers(miller_idx, bulk = bulk,)\n",
    "        slab = slabs[0]\n",
    "        # oxygen molecule adsorbate\n",
    "        adsorbate = Adsorbate(adsorbate_id_from_db=86, adsorbate_db_path = \"/home/jovyan/shared-scratch/kabdelma/high_miller_idx/updated_adsorbates.pkl\")\n",
    "        adsorbate.atoms.rotate(-90, 'y')\n",
    "        adslab_heuristic  = AdsorbateSlabConfig(slab, adsorbate, mode= \"random_site_heuristic_placement\")\n",
    "        adslabs = [*adslab_heuristic.atoms_list]\n",
    "        sid = str(miller_idx[0]) + str(miller_idx[1]) + str(miller_idx[2])\n",
    "        fid = 0\n",
    "        for atoms in adslabs: \n",
    "                image = a2g.convert(atoms)\n",
    "                # image.y = 0\n",
    "                # image.force  = torch.tensor(atoms.get_forces())\n",
    "                image.sid = torch.LongTensor([int(sid+str(fid))])\n",
    "                image.fid = torch.LongTensor([fid])\n",
    "                fid += 1\n",
    "                # set the tags\n",
    "                tags = np.ones(len(atoms))\n",
    "                # set the adsorbate tag (last index) to 2\n",
    "                tags[-1] = 2\n",
    "                tags[-2] = 2\n",
    "                image.tags = torch.LongTensor(tags)\n",
    "                image.oc22=1\n",
    "                # Write to LMDB\n",
    "                txn = ml_relax_db.begin(write=True)\n",
    "                txn.put(f\"{idx}\".encode(\"ascii\"), pickle.dumps(image, protocol=-1))\n",
    "                txn.commit()\n",
    "                ml_relax_db.sync()\n",
    "                idx += 1\n",
    "        \n",
    "txn = ml_relax_db.begin(write=True)\n",
    "txn.put(f\"length\".encode(\"ascii\"), pickle.dumps(idx, protocol=-1))\n",
    "txn.commit()\n",
    "ml_relax_db.sync()"
   ]
  },
  {
   "cell_type": "code",
   "execution_count": 81,
   "metadata": {},
   "outputs": [
    {
     "data": {
      "text/plain": [
       "tensor([3221])"
      ]
     },
     "execution_count": 81,
     "metadata": {},
     "output_type": "execute_result"
    }
   ],
   "source": [
    "dataset = LD({\"src\": \"/home/jovyan/shared-scratch/kabdelma/high_miller_idx/lmdbs/ml_relax/adsorbml_relax_3.lmdb\"})\n",
    "dataset[1].sid"
   ]
  },
  {
   "cell_type": "code",
   "execution_count": 32,
   "metadata": {},
   "outputs": [],
   "source": [
    "base_yaml_path = \"/home/jovyan/shared-scratch/kabdelma/ocp/configs/oc22/s2ef/base_joint.yml\"\n",
    "base_yaml = yaml.safe_load(\n",
    "        open(base_yaml_path, \"r\")\n",
    "    )\n",
    "##\n",
    "# del base_yaml[\"dataset\"][\"test\"]\n",
    "base_yaml[\"dataset\"][\"train\"][\"src\"] = \"/home/jovyan/shared-scratch/kabdelma/high_miller_idx/lmdbs/train\"\n",
    "base_yaml[\"dataset\"][\"val\"][\"src\"] = \"/home/jovyan/shared-scratch/kabdelma/high_miller_idx/lmdbs/val\"\n",
    "base_yaml[\"dataset\"][\"test\"] = {\"src\" : \"/home/jovyan/shared-scratch/kabdelma/high_miller_idx/lmdbs/ml_relax/adsorbml_relax_3.lmdb\"}\n",
    "##\n",
    "with open(base_yaml_path, \"w\") as f:\n",
    "    yaml.dump(base_yaml, f, default_flow_style=False)"
   ]
  },
  {
   "cell_type": "markdown",
   "metadata": {},
   "source": [
    "## Check for anomalies"
   ]
  },
  {
   "cell_type": "code",
   "execution_count": 35,
   "metadata": {},
   "outputs": [
    {
     "name": "stderr",
     "output_type": "stream",
     "text": [
      "100%|██████████| 100/100 [00:26<00:00,  3.75it/s]\n"
     ]
    }
   ],
   "source": [
    "# Iterate over trajs to extract results\n",
    "results = []\n",
    "for file in tqdm(glob(\"/home/jovyan/shared-scratch/kabdelma/high_miller_idx/ml_relax_traj_3/*.traj\")):\n",
    "    rx_id = file.split(\"/\")[-1].split(\".\")[0]\n",
    "    traj = ase.io.read(file, \":\")\n",
    "    \n",
    "    # Check to see if the trajectory is anomolous\n",
    "    initial_atoms = traj[0]\n",
    "    final_atoms = traj[-1]\n",
    "    atom_tags = initial_atoms.get_tags()\n",
    "    atom_tags[-1] = 2\n",
    "    atom_tags[-2] = 2\n",
    "    detector = DetectTrajAnomaly(initial_atoms, final_atoms, atom_tags)\n",
    "    anom = (\n",
    "        detector.is_adsorbate_dissociated()\n",
    "        or detector.is_adsorbate_desorbed()\n",
    "        or detector.has_surface_changed()\n",
    "        or detector.is_adsorbate_intercalated()\n",
    "    )\n",
    "    rx_energy = traj[-1].get_potential_energy()\n",
    "    results.append({\"relaxation_idx\": rx_id, \"relaxed_atoms\": traj[-1],\n",
    "                    \"relaxed_energy_ml\": rx_energy, \"anomolous\": anom})  "
   ]
  },
  {
   "cell_type": "code",
   "execution_count": 36,
   "metadata": {},
   "outputs": [
    {
     "data": {
      "text/html": [
       "<div>\n",
       "<style scoped>\n",
       "    .dataframe tbody tr th:only-of-type {\n",
       "        vertical-align: middle;\n",
       "    }\n",
       "\n",
       "    .dataframe tbody tr th {\n",
       "        vertical-align: top;\n",
       "    }\n",
       "\n",
       "    .dataframe thead th {\n",
       "        text-align: right;\n",
       "    }\n",
       "</style>\n",
       "<table border=\"1\" class=\"dataframe\">\n",
       "  <thead>\n",
       "    <tr style=\"text-align: right;\">\n",
       "      <th></th>\n",
       "      <th>index</th>\n",
       "      <th>relaxation_idx</th>\n",
       "      <th>relaxed_atoms</th>\n",
       "      <th>relaxed_energy_ml</th>\n",
       "      <th>anomolous</th>\n",
       "      <th>miller_idx</th>\n",
       "      <th>placement_num</th>\n",
       "    </tr>\n",
       "  </thead>\n",
       "  <tbody>\n",
       "    <tr>\n",
       "      <th>0</th>\n",
       "      <td>0</td>\n",
       "      <td>10020</td>\n",
       "      <td>(Atom('Cu', [2.6006734371185303, 0.02133429236...</td>\n",
       "      <td>-203.763092</td>\n",
       "      <td>False</td>\n",
       "      <td>100.0</td>\n",
       "      <td>20.0</td>\n",
       "    </tr>\n",
       "    <tr>\n",
       "      <th>1</th>\n",
       "      <td>1</td>\n",
       "      <td>10059</td>\n",
       "      <td>(Atom('Cu', [2.58103346824646, 0.0020765517838...</td>\n",
       "      <td>-203.766052</td>\n",
       "      <td>False</td>\n",
       "      <td>100.0</td>\n",
       "      <td>59.0</td>\n",
       "    </tr>\n",
       "    <tr>\n",
       "      <th>2</th>\n",
       "      <td>2</td>\n",
       "      <td>10070</td>\n",
       "      <td>(Atom('Cu', [2.599041223526001, -0.00152928323...</td>\n",
       "      <td>-203.771088</td>\n",
       "      <td>False</td>\n",
       "      <td>100.0</td>\n",
       "      <td>70.0</td>\n",
       "    </tr>\n",
       "    <tr>\n",
       "      <th>3</th>\n",
       "      <td>3</td>\n",
       "      <td>10042</td>\n",
       "      <td>(Atom('Cu', [2.6197001934051514, -0.0217799730...</td>\n",
       "      <td>-203.777161</td>\n",
       "      <td>False</td>\n",
       "      <td>100.0</td>\n",
       "      <td>42.0</td>\n",
       "    </tr>\n",
       "    <tr>\n",
       "      <th>4</th>\n",
       "      <td>4</td>\n",
       "      <td>10060</td>\n",
       "      <td>(Atom('Cu', [2.620391368865967, -0.02184442989...</td>\n",
       "      <td>-203.778305</td>\n",
       "      <td>False</td>\n",
       "      <td>100.0</td>\n",
       "      <td>60.0</td>\n",
       "    </tr>\n",
       "    <tr>\n",
       "      <th>...</th>\n",
       "      <td>...</td>\n",
       "      <td>...</td>\n",
       "      <td>...</td>\n",
       "      <td>...</td>\n",
       "      <td>...</td>\n",
       "      <td>...</td>\n",
       "      <td>...</td>\n",
       "    </tr>\n",
       "    <tr>\n",
       "      <th>95</th>\n",
       "      <td>95</td>\n",
       "      <td>10077</td>\n",
       "      <td>(Atom('Cu', [2.5975725650787354, -0.0077236834...</td>\n",
       "      <td>-203.774796</td>\n",
       "      <td>False</td>\n",
       "      <td>100.0</td>\n",
       "      <td>77.0</td>\n",
       "    </tr>\n",
       "    <tr>\n",
       "      <th>96</th>\n",
       "      <td>96</td>\n",
       "      <td>10065</td>\n",
       "      <td>(Atom('Cu', [2.5998034477233887, 0.00116391107...</td>\n",
       "      <td>-203.764954</td>\n",
       "      <td>False</td>\n",
       "      <td>100.0</td>\n",
       "      <td>65.0</td>\n",
       "    </tr>\n",
       "    <tr>\n",
       "      <th>97</th>\n",
       "      <td>97</td>\n",
       "      <td>10012</td>\n",
       "      <td>(Atom('Cu', [2.619626522064209, -0.02180602215...</td>\n",
       "      <td>-203.777832</td>\n",
       "      <td>False</td>\n",
       "      <td>100.0</td>\n",
       "      <td>12.0</td>\n",
       "    </tr>\n",
       "    <tr>\n",
       "      <th>98</th>\n",
       "      <td>98</td>\n",
       "      <td>10026</td>\n",
       "      <td>(Atom('Cu', [2.5797533988952637, 0.02290132641...</td>\n",
       "      <td>-203.766998</td>\n",
       "      <td>False</td>\n",
       "      <td>100.0</td>\n",
       "      <td>26.0</td>\n",
       "    </tr>\n",
       "    <tr>\n",
       "      <th>99</th>\n",
       "      <td>99</td>\n",
       "      <td>10013</td>\n",
       "      <td>(Atom('Cu', [2.600215435028076, 0.012113672681...</td>\n",
       "      <td>-203.780380</td>\n",
       "      <td>False</td>\n",
       "      <td>100.0</td>\n",
       "      <td>13.0</td>\n",
       "    </tr>\n",
       "  </tbody>\n",
       "</table>\n",
       "<p>100 rows × 7 columns</p>\n",
       "</div>"
      ],
      "text/plain": [
       "    index relaxation_idx                                      relaxed_atoms  \\\n",
       "0       0          10020  (Atom('Cu', [2.6006734371185303, 0.02133429236...   \n",
       "1       1          10059  (Atom('Cu', [2.58103346824646, 0.0020765517838...   \n",
       "2       2          10070  (Atom('Cu', [2.599041223526001, -0.00152928323...   \n",
       "3       3          10042  (Atom('Cu', [2.6197001934051514, -0.0217799730...   \n",
       "4       4          10060  (Atom('Cu', [2.620391368865967, -0.02184442989...   \n",
       "..    ...            ...                                                ...   \n",
       "95     95          10077  (Atom('Cu', [2.5975725650787354, -0.0077236834...   \n",
       "96     96          10065  (Atom('Cu', [2.5998034477233887, 0.00116391107...   \n",
       "97     97          10012  (Atom('Cu', [2.619626522064209, -0.02180602215...   \n",
       "98     98          10026  (Atom('Cu', [2.5797533988952637, 0.02290132641...   \n",
       "99     99          10013  (Atom('Cu', [2.600215435028076, 0.012113672681...   \n",
       "\n",
       "    relaxed_energy_ml  anomolous  miller_idx  placement_num  \n",
       "0         -203.763092      False       100.0           20.0  \n",
       "1         -203.766052      False       100.0           59.0  \n",
       "2         -203.771088      False       100.0           70.0  \n",
       "3         -203.777161      False       100.0           42.0  \n",
       "4         -203.778305      False       100.0           60.0  \n",
       "..                ...        ...         ...            ...  \n",
       "95        -203.774796      False       100.0           77.0  \n",
       "96        -203.764954      False       100.0           65.0  \n",
       "97        -203.777832      False       100.0           12.0  \n",
       "98        -203.766998      False       100.0           26.0  \n",
       "99        -203.780380      False       100.0           13.0  \n",
       "\n",
       "[100 rows x 7 columns]"
      ]
     },
     "execution_count": 36,
     "metadata": {},
     "output_type": "execute_result"
    }
   ],
   "source": [
    "df = pd.DataFrame(results)\n",
    "#scrap anomalies\n",
    "df = df[~df.anomolous].copy().reset_index()\n",
    "## get the Miller index from the relaxation index\n",
    "for i in range(len(df)):\n",
    "    miller_idx = int(df.iloc[i].relaxation_idx[:3])\n",
    "    placement_num = int(df.iloc[i].relaxation_idx[3:])\n",
    "    df.at[i, \"miller_idx\"] = miller_idx\n",
    "    df.at[i, \"placement_num\"] = placement_num\n",
    "df"
   ]
  },
  {
   "cell_type": "markdown",
   "metadata": {},
   "source": [
    "## Deduplicate structures"
   ]
  },
  {
   "cell_type": "code",
   "execution_count": 37,
   "metadata": {},
   "outputs": [],
   "source": [
    "# Extract the configs and their energies\n",
    "def deduplicate(configs_for_deduplication: list,\n",
    "                adsorbate_binding_index: int,\n",
    "                cosine_similarity = 1e-4,\n",
    "               ):\n",
    "    \"\"\"\n",
    "    A function that may be used to deduplicate similar structures.\n",
    "    Among duplicate entries, the one with the lowest energy will be kept.\n",
    "    \n",
    "    Args:\n",
    "        configs_for_deduplication: a list of ML relaxed adsorbate-\n",
    "            surface configurations.\n",
    "        cosine_similarity: The cosine simularity value above which,\n",
    "            configurations are considered duplicate.\n",
    "            \n",
    "    Returns:\n",
    "        (list): the indices of configs which should be kept as non-duplicate\n",
    "    \"\"\"\n",
    "    \n",
    "    energies_for_deduplication = np.array([atoms.get_potential_energy() for atoms in configs_for_deduplication])\n",
    "    # Instantiate the soap descriptor\n",
    "    soap = SOAP(\n",
    "        species=np.unique(configs_for_deduplication[0].get_chemical_symbols()),\n",
    "        r_cut = 2,\n",
    "        n_max = 6,\n",
    "        l_max = 3,\n",
    "        periodic=True,\n",
    "    )\n",
    "    #Figure out which index cooresponds to the adsorbate\n",
    "    tags = configs_for_deduplication[0].get_tags()\n",
    "    tags[-1] = 2\n",
    "    ads_len = list(tags).count(2)\n",
    "    position_idx = -1*(ads_len-adsorbate_binding_index)\n",
    "    # Iterate over the systems to get the SOAP vectors\n",
    "    soap_desc = []\n",
    "    for config in configs_for_deduplication:\n",
    "        soap_ex = soap.create(config, centers=[position_idx])\n",
    "        soap_desc.extend(soap_ex)\n",
    "\n",
    "    soap_descs = np.vstack(soap_desc)\n",
    "\n",
    "    #Use euclidean distance to assess similarity\n",
    "    distance = squareform(pdist(soap_descs, metric=\"cosine\"))\n",
    "\n",
    "    bool_matrix = np.where(distance <= cosine_similarity, 1, 0)\n",
    "    # For configs that are found to be similar, just keep the lowest energy one\n",
    "    idxs_to_keep = []\n",
    "    pass_idxs = []\n",
    "    for idx, row in enumerate(bool_matrix):\n",
    "        if idx in pass_idxs:\n",
    "            continue\n",
    "            \n",
    "        elif sum(row) == 1:\n",
    "            idxs_to_keep.append(idx)\n",
    "        else:\n",
    "            same_idxs = [row_idx for row_idx, val in enumerate(row) if val == 1]\n",
    "            pass_idxs.extend(same_idxs)\n",
    "            # Pick the one with the lowest energy by ML\n",
    "            min_e = min(energies_for_deduplication[same_idxs])\n",
    "            idxs_to_keep.append(list(energies_for_deduplication).index(min_e))\n",
    "    return idxs_to_keep"
   ]
  },
  {
   "cell_type": "markdown",
   "metadata": {},
   "source": [
    "## Write vasp inputs for the 5 systems with the lowest energy"
   ]
  },
  {
   "cell_type": "code",
   "execution_count": 38,
   "metadata": {},
   "outputs": [
    {
     "name": "stderr",
     "output_type": "stream",
     "text": [
      "100%|██████████| 1/1 [00:00<00:00,  4.99it/s]"
     ]
    },
    {
     "name": "stdout",
     "output_type": "stream",
     "text": [
      "64\n"
     ]
    },
    {
     "name": "stderr",
     "output_type": "stream",
     "text": [
      "\n"
     ]
    }
   ],
   "source": [
    "adsorbate = Adsorbate(adsorbate_id_from_db=0, adsorbate_db_path = \"/home/jovyan/shared-scratch/kabdelma/Open-Catalyst-Dataset/ocdata/databases/pkls/adsorbates.pkl\")\n",
    "for miller in tqdm(np.unique(df.miller_idx)):\n",
    "    df_miller = df.query(f\"miller_idx == {miller}\").copy()\n",
    "    df_miller.sort_values(by = \"placement_num\", inplace = True)\n",
    "    configs_for_deduplication =  df_miller.relaxed_atoms.tolist()\n",
    "    idxs_to_keep = deduplicate(configs_for_deduplication, adsorbate.binding_indices[0])\n",
    "    df_miller = df_miller.iloc[idxs_to_keep]\n",
    "    lowest_energy_atoms = df_miller.sort_values(by = \"relaxed_energy_ml\")[\"relaxed_atoms\"].iloc[:5].values\n",
    "    print(len(np.where(lowest_energy_atoms[0].numbers==29)[0]))\n",
    "    # Vasp parameters.\n",
    "    vasp_flags = {\n",
    "    \"ibrion\": 2,\n",
    "    \"nsw\": 2000,\n",
    "    \"isif\": 0,\n",
    "    \"isym\": 0,\n",
    "    \"lreal\": \"Auto\",\n",
    "    \"ediffg\": -0.03,\n",
    "    \"symprec\": 1e-10,\n",
    "    \"encut\": 350.0,\n",
    "    \"laechg\": True,\n",
    "    \"lwave\": False,\n",
    "    \"ncore\": 4,\n",
    "    \"gga\": \"RP\",\n",
    "    \"pp\": \"PBE\",\n",
    "    \"xc\": \"PBE\",\n",
    "    \"ispin\": 2,\n",
    "    'magmom': [0]*len(np.where(lowest_energy_atoms[0].numbers==29)[0]) + [-2,2]\n",
    "    }\n",
    "\n",
    "    for i, atoms in enumerate(lowest_energy_atoms):\n",
    "        write_vasp_input_files(atoms, outdir = f\"vasp/adslabs_o2/mp_30_{int(miller)}_{i}\", vasp_flags = vasp_flags)"
   ]
  },
  {
   "cell_type": "code",
   "execution_count": 65,
   "metadata": {},
   "outputs": [],
   "source": [
    "# dff = df.query(\"miller_idx == 643\")\n",
    "# dff.sort_values(by = \"placement_num\", inplace = True)\n",
    "# adsorbate = Adsorbate(adsorbate_id_from_db=0, adsorbate_db_path = \"/home/jovyan/shared-scratch/kabdelma/Open-Catalyst-Dataset/ocdata/databases/pkls/adsorbates.pkl\")\n",
    "# configs_for_deduplication =  dff.relaxed_atoms.tolist()\n",
    "# idxs_to_keep = deduplicate(configs_for_deduplication, adsorbate.binding_indices[0])\n",
    "# dff = dff.iloc[idxs_to_keep]\n",
    "# dff.sort_values(by = \"relaxed_energy_ml\").iloc[:5]"
   ]
  },
  {
   "cell_type": "markdown",
   "metadata": {},
   "source": [
    "## write the vasp output to traj files"
   ]
  },
  {
   "cell_type": "markdown",
   "metadata": {},
   "source": [
    "### create a mapping file for the systems "
   ]
  },
  {
   "cell_type": "code",
   "execution_count": 104,
   "metadata": {},
   "outputs": [],
   "source": [
    "## load the mappings stored from previous experiments\n",
    "with open('hif_vasp_mappings.pkl', 'rb') as read_file:\n",
    "    hif_vasp_mappings = pickle.load(read_file)"
   ]
  },
  {
   "cell_type": "markdown",
   "metadata": {},
   "source": [
    "## adslabs"
   ]
  },
  {
   "cell_type": "code",
   "execution_count": 105,
   "metadata": {},
   "outputs": [
    {
     "name": "stderr",
     "output_type": "stream",
     "text": [
      "  0%|          | 0/168 [00:00<?, ?it/s]"
     ]
    },
    {
     "name": "stderr",
     "output_type": "stream",
     "text": [
      "100%|██████████| 168/168 [00:13<00:00, 12.77it/s]\n"
     ]
    }
   ],
   "source": [
    "## write traj files for adslab opt data\n",
    "file_names = os.listdir(\"/home/jovyan/shared-scratch/kabdelma/high_miller_idx/vasp/adslabs_o2\")\n",
    "vasp_mappings = {}\n",
    "for file_name in tqdm(file_names):\n",
    "    atoms_list = read(f\"/home/jovyan/shared-scratch/kabdelma/high_miller_idx/vasp/adslabs_o2/\"+file_name + \"/OUTCAR\", \":\")\n",
    "\n",
    "    random_id = randint(1000,99999)\n",
    "    traj_name = str(random_id) + \".traj\"\n",
    "    miller_idx = int(file_name.split(\"_\")[-2])\n",
    "    placement_num = int(file_name.split(\"_\")[-1])\n",
    "    mapping = {\"mp-id\": \"mp-30\",\n",
    "               \"miller_idx\": miller_idx,\n",
    "               \"adsorbate\": \"O2\",\n",
    "               \"adsorbate_placement_num\": placement_num,\n",
    "               \"slab_id\": None,\n",
    "            }\n",
    "    if mapping not in hif_vasp_mappings.values():\n",
    "        with Trajectory(filename=\"vasp_traj_files/adslabs/\" + traj_name, mode='w') as traj:\n",
    "            for atoms in atoms_list:\n",
    "                traj.write(atoms, **atoms.calc.results)\n",
    "        vasp_mappings[random_id] = mapping\n",
    "    else: \n",
    "        print(mapping)"
   ]
  },
  {
   "cell_type": "code",
   "execution_count": 106,
   "metadata": {},
   "outputs": [],
   "source": [
    "# update the mappings dictionary with the new experiments\n",
    "hif_vasp_mappings.update(vasp_mappings)\n",
    "# ## storing the meta-data in a json file\n",
    "with open('hif_vasp_mappings.pkl', 'wb') as fout:\n",
    "    pickle.dump(hif_vasp_mappings, fout)"
   ]
  },
  {
   "cell_type": "markdown",
   "metadata": {},
   "source": [
    "## slabs"
   ]
  },
  {
   "cell_type": "code",
   "execution_count": 98,
   "metadata": {},
   "outputs": [],
   "source": [
    "## load the mappings stored from previous experiments\n",
    "with open('hif_vasp_mappings.pkl', 'rb') as read_file:\n",
    "    hif_vasp_mappings = pickle.load(read_file)"
   ]
  },
  {
   "cell_type": "code",
   "execution_count": 99,
   "metadata": {},
   "outputs": [
    {
     "name": "stderr",
     "output_type": "stream",
     "text": [
      "100%|██████████| 32/32 [00:06<00:00,  4.80it/s]\n"
     ]
    }
   ],
   "source": [
    "## write traj files for adslab opt data\n",
    "file_names = os.listdir(\"/home/jovyan/shared-scratch/kabdelma/high_miller_idx/vasp/slabs\")\n",
    "vasp_mappings = {}\n",
    "for file_name in tqdm(file_names):\n",
    "    atoms_list = read(f\"/home/jovyan/shared-scratch/kabdelma/high_miller_idx/vasp/slabs/\"+ file_name + \"/OUTCAR\", \":\")\n",
    "    random_id = randint(1000,99999)\n",
    "    traj_name = str(random_id) + \".traj\"\n",
    "    miller_idx = int(file_name.split(\"_\")[-3]+ file_name.split(\"_\")[-2]+ file_name.split(\"_\")[-1])\n",
    "    placement_num = None\n",
    "    mapping = {\"mp-id\": \"mp-30\",\n",
    "               \"miller_idx\": miller_idx,\n",
    "               \"adsorbate\": None,\n",
    "               \"adsorbate_placement_num\": placement_num,\n",
    "               \"slab_id\": None,\n",
    "            }\n",
    "    if mapping not in hif_vasp_mappings.values():\n",
    "        with Trajectory(filename=\"vasp_traj_files/slabs/\" + traj_name, mode='w') as traj:\n",
    "            for atoms in atoms_list:\n",
    "                traj.write(atoms, **atoms.calc.results)\n",
    "        vasp_mappings[random_id] = mapping\n",
    "    else: \n",
    "        print(mapping)"
   ]
  },
  {
   "cell_type": "code",
   "execution_count": 100,
   "metadata": {},
   "outputs": [],
   "source": [
    "# update the mappings dictionary with the new experiments\n",
    "hif_vasp_mappings.update(vasp_mappings)\n",
    "# ## storing the meta-data in a json file\n",
    "with open('hif_vasp_mappings.pkl', 'wb') as fout:\n",
    "    pickle.dump(hif_vasp_mappings, fout)"
   ]
  },
  {
   "cell_type": "code",
   "execution_count": 107,
   "metadata": {},
   "outputs": [],
   "source": [
    "## load the mappings stored from previous experiments\n",
    "with open('hif_vasp_mappings.pkl', 'rb') as read_file:\n",
    "    hif_vasp_mappings = pickle.load(read_file)"
   ]
  },
  {
   "cell_type": "code",
   "execution_count": 108,
   "metadata": {},
   "outputs": [],
   "source": [
    "## match the slab and adslab ids in the mapping file\n",
    "# find the slab mappings by finding dicts with adsorbate = None\n",
    "slab_mappings = {k:v for k,v in hif_vasp_mappings.items() if v[\"adsorbate\"] == None}\n",
    "adslab_mappings = {k:v for k,v in hif_vasp_mappings.items() if v[\"adsorbate\"] != None}\n",
    "# match the adslab mappings with the slab mappings based on the miller index\n",
    "for adslab_id, adslab_mapping in adslab_mappings.items():\n",
    "    miller_idx = adslab_mapping[\"miller_idx\"]\n",
    "    for k,v in slab_mappings.items():\n",
    "        if v[\"miller_idx\"] == miller_idx:\n",
    "            slab_id = k\n",
    "            adslab_mappings[adslab_id][\"slab_id\"] = slab_id"
   ]
  },
  {
   "cell_type": "code",
   "execution_count": 109,
   "metadata": {},
   "outputs": [],
   "source": [
    "# update the mappings dictionary with the new experiments\n",
    "hif_vasp_mappings.update(adslab_mappings)\n",
    "# ## storing the meta-data in a json file\n",
    "with open('hif_vasp_mappings.pkl', 'wb') as fout:\n",
    "    pickle.dump(hif_vasp_mappings, fout)"
   ]
  },
  {
   "cell_type": "markdown",
   "metadata": {},
   "source": [
    "## Analysis"
   ]
  },
  {
   "cell_type": "code",
   "execution_count": 42,
   "metadata": {},
   "outputs": [],
   "source": [
    "## load the mappings stored from previous experiments\n",
    "with open('hif_vasp_mappings.pkl', 'rb') as read_file:\n",
    "    hif_vasp_mappings = pickle.load(read_file)"
   ]
  },
  {
   "cell_type": "code",
   "execution_count": 73,
   "metadata": {},
   "outputs": [
    {
     "name": "stderr",
     "output_type": "stream",
     "text": [
      "100%|██████████| 435/435 [00:06<00:00, 67.40it/s]\n"
     ]
    }
   ],
   "source": [
    "# get the slab and the adslab realxed energies\n",
    "traj_files = os.listdir(\"vasp_traj_files/adslabs\")\n",
    "miller_indices = []\n",
    "placement_num = []\n",
    "relax_adslab_energies = []\n",
    "relax_slab_energies = []\n",
    "sids = []\n",
    "for traj_file in tqdm(traj_files):\n",
    "    relaxed_adslab_atoms = read(f\"vasp_traj_files/adslabs/{traj_file}\", -1)\n",
    "    slab_id = hif_vasp_mappings[int(traj_file.split(\".\")[0])][\"slab_id\"]\n",
    "    if slab_id != None:\n",
    "        sids.append(int(traj_file.split(\".\")[0]))\n",
    "        relaxed_slab_atoms = read(\"vasp_traj_files/slabs/\" + str(slab_id) + \".traj\", -1)\n",
    "        miller_idx = hif_vasp_mappings[int(traj_file.split(\".\")[0])][\"miller_idx\"]\n",
    "        placement = hif_vasp_mappings[int(traj_file.split(\".\")[0])][\"adsorbate_placement_num\"]\n",
    "        miller_indices.append(miller_idx)\n",
    "        placement_num.append(placement)\n",
    "        relax_adslab_energies.append(relaxed_adslab_atoms.get_potential_energy())\n",
    "        relax_slab_energies.append(relaxed_slab_atoms.get_potential_energy())"
   ]
  },
  {
   "cell_type": "code",
   "execution_count": 99,
   "metadata": {},
   "outputs": [
    {
     "data": {
      "text/html": [
       "<div>\n",
       "<style scoped>\n",
       "    .dataframe tbody tr th:only-of-type {\n",
       "        vertical-align: middle;\n",
       "    }\n",
       "\n",
       "    .dataframe tbody tr th {\n",
       "        vertical-align: top;\n",
       "    }\n",
       "\n",
       "    .dataframe thead th {\n",
       "        text-align: right;\n",
       "    }\n",
       "</style>\n",
       "<table border=\"1\" class=\"dataframe\">\n",
       "  <thead>\n",
       "    <tr style=\"text-align: right;\">\n",
       "      <th></th>\n",
       "      <th>sid</th>\n",
       "      <th>miller_idx</th>\n",
       "      <th>placement_num</th>\n",
       "      <th>relax_adslab_energies</th>\n",
       "      <th>relax_slab_energies</th>\n",
       "      <th>adsorption_energy</th>\n",
       "    </tr>\n",
       "  </thead>\n",
       "  <tbody>\n",
       "    <tr>\n",
       "      <th>260</th>\n",
       "      <td>68480</td>\n",
       "      <td>321</td>\n",
       "      <td>36</td>\n",
       "      <td>-250.438149</td>\n",
       "      <td>-244.021962</td>\n",
       "      <td>-1.620556</td>\n",
       "    </tr>\n",
       "    <tr>\n",
       "      <th>61</th>\n",
       "      <td>85152</td>\n",
       "      <td>321</td>\n",
       "      <td>36</td>\n",
       "      <td>-250.195445</td>\n",
       "      <td>-244.021962</td>\n",
       "      <td>-1.377852</td>\n",
       "    </tr>\n",
       "    <tr>\n",
       "      <th>324</th>\n",
       "      <td>86036</td>\n",
       "      <td>321</td>\n",
       "      <td>36</td>\n",
       "      <td>-250.117476</td>\n",
       "      <td>-244.021962</td>\n",
       "      <td>-1.299883</td>\n",
       "    </tr>\n",
       "    <tr>\n",
       "      <th>152</th>\n",
       "      <td>18638</td>\n",
       "      <td>321</td>\n",
       "      <td>36</td>\n",
       "      <td>-250.037766</td>\n",
       "      <td>-244.021962</td>\n",
       "      <td>-1.220173</td>\n",
       "    </tr>\n",
       "    <tr>\n",
       "      <th>2</th>\n",
       "      <td>45384</td>\n",
       "      <td>321</td>\n",
       "      <td>36</td>\n",
       "      <td>-250.020518</td>\n",
       "      <td>-244.021962</td>\n",
       "      <td>-1.202925</td>\n",
       "    </tr>\n",
       "  </tbody>\n",
       "</table>\n",
       "</div>"
      ],
      "text/plain": [
       "       sid  miller_idx  placement_num  relax_adslab_energies  \\\n",
       "260  68480         321             36            -250.438149   \n",
       "61   85152         321             36            -250.195445   \n",
       "324  86036         321             36            -250.117476   \n",
       "152  18638         321             36            -250.037766   \n",
       "2    45384         321             36            -250.020518   \n",
       "\n",
       "     relax_slab_energies  adsorption_energy  \n",
       "260          -244.021962          -1.620556  \n",
       "61           -244.021962          -1.377852  \n",
       "324          -244.021962          -1.299883  \n",
       "152          -244.021962          -1.220173  \n",
       "2            -244.021962          -1.202925  "
      ]
     },
     "execution_count": 99,
     "metadata": {},
     "output_type": "execute_result"
    }
   ],
   "source": [
    "vasp_df = pd.DataFrame({\"sid\": sids, \"miller_idx\": miller_indices, \"placement_num\": placement_num, \n",
    "                        \"relax_adslab_energies\": relax_adslab_energies,\n",
    "                        \"relax_slab_energies\": relax_slab_energies,\n",
    "                        })\n",
    "\n",
    "oxygen_gas_phase_energy = -4.795631525\n",
    "vasp_df[\"adsorption_energy\"] = vasp_df[\"relax_adslab_energies\"] - vasp_df[\"relax_slab_energies\"] - oxygen_gas_phase_energy\n",
    "miller_df = vasp_df.query(\"miller_idx == 321\")\n",
    "miller_df.drop_duplicates(subset = [\"relax_adslab_energies\"], inplace=True)\n",
    "miller_df.sort_values(by = \"relax_adslab_energies\", inplace=True)\n",
    "miller_df"
   ]
  },
  {
   "cell_type": "code",
   "execution_count": 45,
   "metadata": {},
   "outputs": [
    {
     "name": "stderr",
     "output_type": "stream",
     "text": [
      "100%|██████████| 32/32 [00:00<00:00, 700.87it/s]\n"
     ]
    }
   ],
   "source": [
    "## for each Miller index get the lowest energy of the different palcements\n",
    "lowest_ads_energies = {}\n",
    "for miller in tqdm(np.unique(vasp_df.miller_idx)):\n",
    "    miller_df = vasp_df.query(f\"miller_idx == {miller}\").copy()\n",
    "    lowest_ads_energies[str(miller)] = miller_df[\"relax_adslab_energies\"].values.min() - miller_df[\"relax_slab_energies\"].values.min()"
   ]
  },
  {
   "cell_type": "code",
   "execution_count": 46,
   "metadata": {},
   "outputs": [
    {
     "data": {
      "image/png": "[encoded data removed]",
      "text/plain": [
       "<Figure size 1000x500 with 1 Axes>"
      ]
     },
     "metadata": {},
     "output_type": "display_data"
    }
   ],
   "source": [
    "# sort the energies in the dictionary and plot\n",
    "plt.figure(figsize=(10, 5))\n",
    "plt.bar(lowest_ads_energies.keys(), lowest_ads_energies.values())\n",
    "plt.xticks(list(lowest_ads_energies.keys()), rotation = 90)\n",
    "plt.xlabel(\"Miller Index\")\n",
    "plt.ylabel(\"Adsorption Energy (eV)\")\n",
    "plt.ylim(-6,-7)\n",
    "plt.title(\"Adsorption Energy of Different Miller Indices\");"
   ]
  },
  {
   "cell_type": "code",
   "execution_count": 37,
   "metadata": {},
   "outputs": [],
   "source": [
    "# atoms = miller_df[\"relaxed_atoms\"].iloc[4]\n",
    "# from ase.visualize import view\n",
    "# view(atoms.repeat((2,2,1)), viewer='x3d')"
   ]
  },
  {
   "cell_type": "code",
   "execution_count": null,
   "metadata": {},
   "outputs": [],
   "source": []
  }
 ],
 "metadata": {
  "kernelspec": {
   "display_name": "base",
   "language": "python",
   "name": "python3"
  },
  "language_info": {
   "codemirror_mode": {
    "name": "ipython",
    "version": 3
   },
   "file_extension": ".py",
   "mimetype": "text/x-python",
   "name": "python",
   "nbconvert_exporter": "python",
   "pygments_lexer": "ipython3",
   "version": "3.9.15"
  }
 },
 "nbformat": 4,
 "nbformat_minor": 2
}
