{
 "cells": [
  {
   "cell_type": "code",
   "execution_count": 1,
   "metadata": {},
   "outputs": [],
   "source": [
    "# from adsorbate_slab_config_fixed_seed import AdsorbateSlabConfig\n",
    "from ocdata.core import Adsorbate, Bulk, Slab \n",
    "from ocdata.utils.vasp import write_vasp_input_files\n",
    "from ocdata.core import Adsorbate, AdsorbateSlabConfig, Bulk, Slab\n",
    "from ase.io import read\n",
    "from glob import glob\n",
    "import numpy as np\n",
    "from random import randint\n",
    "import pandas as pd\n",
    "# from dscribe.descriptors import SOAP\n",
    "from ase.io.trajectory import Trajectory\n",
    "from tqdm import tqdm\n",
    "import matplotlib.pyplot as plt\n",
    "from ase import Atoms\n",
    "from ase.build import molecule\n",
    "from x3dase.x3d import X3D\n",
    "from ase.constraints import FixAtoms\n",
    "import warnings\n",
    "warnings.filterwarnings('ignore')"
   ]
  },
  {
   "cell_type": "markdown",
   "metadata": {},
   "source": [
    "## (211) surface"
   ]
  },
  {
   "cell_type": "markdown",
   "metadata": {},
   "source": [
    "## Add spin polarization"
   ]
  },
  {
   "cell_type": "code",
   "execution_count": 2,
   "metadata": {},
   "outputs": [],
   "source": [
    "# bulk = Bulk(bulk_src_id_from_db = \"mp-30\",\n",
    "# bulk_db_path = \"/home/jovyan/shared-scratch/kabdelma/Open-Catalyst-Dataset/ocdata/databases/pkls/bulks.pkl\")\n",
    "# slabs = Slab.from_bulk_get_specific_millers((2,1,1), bulk = bulk,)\n",
    "# slab = slabs[0]"
   ]
  },
  {
   "cell_type": "code",
   "execution_count": 2,
   "metadata": {},
   "outputs": [
    {
     "name": "stdout",
     "output_type": "stream",
     "text": [
      "48\n"
     ]
    },
    {
     "data": {
      "text/plain": [
       "96"
      ]
     },
     "execution_count": 2,
     "metadata": {},
     "output_type": "execute_result"
    }
   ],
   "source": [
    "bulk = Bulk(bulk_src_id_from_db = \"mp-30\",\n",
    "bulk_db_path = \"/home/jovyan/shared-scratch/kabdelma/Open-Catalyst-Dataset/ocdata/databases/pkls/bulks.pkl\")\n",
    "slab_atoms = Slab.from_bulk_get_specific_millers((2,1,1), bulk = bulk)[0].atoms\n",
    "del slab_atoms[[aa.index for aa in slab_atoms if aa.position[2] < 15.38]]\n",
    "slab_atoms.constraints = FixAtoms(indices=[aa.index for aa in slab_atoms if aa.position[2] < 19.14])\n",
    "slab_atoms.center(vacuum=15/2, axis=2)\n",
    "print(len(slab_atoms.constraints[0].index))\n",
    "len(slab_atoms)"
   ]
  },
  {
   "cell_type": "code",
   "execution_count": 3,
   "metadata": {},
   "outputs": [
    {
     "ename": "",
     "evalue": "",
     "output_type": "error",
     "traceback": [
      "\u001b[1;31mThe Kernel crashed while executing code in the current cell or a previous cell. \n",
      "\u001b[1;31mPlease review the code in the cell(s) to identify a possible cause of the failure. \n",
      "\u001b[1;31mClick <a href='https://aka.ms/vscodeJupyterKernelCrash'>here</a> for more info. \n",
      "\u001b[1;31mView Jupyter <a href='command:jupyter.viewOutput'>log</a> for further details."
     ]
    }
   ],
   "source": [
    "with Trajectory(filename=\"slab_atoms_211.traj\"\n",
    "                , mode='w') as traj:\n",
    "    traj.write(slab_atoms,)"
   ]
  },
  {
   "cell_type": "code",
   "execution_count": 6,
   "metadata": {},
   "outputs": [],
   "source": [
    "from x3dase.x3d import X3D\n",
    "X3D(slab_atoms).write(\"atoms_211.html\")"
   ]
  },
  {
   "cell_type": "markdown",
   "metadata": {},
   "source": [
    "## create the initial structure"
   ]
  },
  {
   "cell_type": "code",
   "execution_count": 8,
   "metadata": {},
   "outputs": [],
   "source": [
    "from ase.build import molecule\n",
    "# slab atoms\n",
    "atoms = slab_atoms.copy()\n",
    "# Adsorbate atoms.\n",
    "ads = molecule(\"O2\")\n",
    "ads.rotate(-90, 'y')\n",
    "height = 10.\n",
    "# Add one adsorbate.\n",
    "site = [43,]\n",
    "position = np.average([aa.position for aa in atoms[site]], axis=0)\n",
    "position[1] += 0\n",
    "position[2] += 3\n",
    "ads_new = ads.copy()\n",
    "ads_new.translate(position)\n",
    "atoms += ads_new"
   ]
  },
  {
   "cell_type": "code",
   "execution_count": 11,
   "metadata": {},
   "outputs": [],
   "source": [
    "X3D(atoms).write(\"/home/jovyan/shared-scratch/kabdelma/high_miller_idx/nebs/211/calculation_1/initial_structure/atoms.html\")"
   ]
  },
  {
   "cell_type": "code",
   "execution_count": 10,
   "metadata": {},
   "outputs": [],
   "source": [
    "# write_vasp_input_files(atoms, \n",
    "#         outdir = \"/home/jovyan/shared-scratch/kabdelma/high_miller_idx/nebs/211/calculation_1/initial_structure\")"
   ]
  },
  {
   "cell_type": "code",
   "execution_count": 13,
   "metadata": {},
   "outputs": [],
   "source": [
    "with Trajectory(filename=\"/home/jovyan/shared-scratch/kabdelma/high_miller_idx/nebs/211/calculation_1/initial_structure/atoms.traj\"\n",
    "                , mode='w') as traj:\n",
    "    traj.write(atoms,)"
   ]
  },
  {
   "cell_type": "markdown",
   "metadata": {},
   "source": [
    "# create the final structure"
   ]
  },
  {
   "cell_type": "code",
   "execution_count": 7,
   "metadata": {},
   "outputs": [],
   "source": [
    "# slab atoms\n",
    "atoms = slab_atoms.copy()\n",
    "# Adsorbate atoms.\n",
    "ads = Atoms(\"O\")\n",
    "height = 10.\n",
    "# Add one adsorbate.\n",
    "site = [19, 43,]\n",
    "position = np.average([aa.position for aa in atoms[site]], axis=0)\n",
    "# position[1] += 0.2\n",
    "position[2] += 0.7\n",
    "ads_new = ads.copy()\n",
    "ads_new.translate(position)\n",
    "atoms += ads_new"
   ]
  },
  {
   "cell_type": "code",
   "execution_count": 8,
   "metadata": {},
   "outputs": [],
   "source": [
    "# Adsorbate atoms.\n",
    "ads = Atoms(\"O\")\n",
    "height = 10.\n",
    "# Add one adsorbate.\n",
    "site = [43, 67]\n",
    "position = np.average([aa.position for aa in atoms[site]], axis=0)\n",
    "# position[1] += 0.2\n",
    "position[2] += 0.7\n",
    "ads_new = ads.copy()\n",
    "ads_new.translate(position)\n",
    "atoms += ads_new"
   ]
  },
  {
   "cell_type": "code",
   "execution_count": 9,
   "metadata": {},
   "outputs": [],
   "source": [
    "X3D(atoms).write(\"/home/jovyan/shared-scratch/kabdelma/high_miller_idx/nebs/211/calculation_1/final_structure/atoms.html\")"
   ]
  },
  {
   "cell_type": "code",
   "execution_count": 143,
   "metadata": {},
   "outputs": [],
   "source": [
    "# write_vasp_input_files(atoms, \n",
    "#         outdir = \"/home/jovyan/shared-scratch/kabdelma/high_miller_idx/nebs/211/calculation_1/final_structure\")"
   ]
  },
  {
   "cell_type": "code",
   "execution_count": 11,
   "metadata": {},
   "outputs": [],
   "source": [
    "with Trajectory(filename=\"/home/jovyan/shared-scratch/kabdelma/high_miller_idx/nebs/211/calculation_1/final_structure/atoms.traj\"\n",
    "        , mode='w') as traj:\n",
    "    traj.write(atoms,)"
   ]
  },
  {
   "cell_type": "markdown",
   "metadata": {},
   "source": [
    "## configuration 2"
   ]
  },
  {
   "cell_type": "code",
   "execution_count": 10,
   "metadata": {},
   "outputs": [],
   "source": [
    "# slab atoms\n",
    "atoms = slab_atoms.copy()\n",
    "# Adsorbate atoms.\n",
    "ads = molecule(\"O2\")\n",
    "ads.rotate(-90, 'y')\n",
    "ads.rotate(-90, 'z')\n",
    "height = 10.\n",
    "# Add one adsorbate.\n",
    "site = [43,67]\n",
    "position = np.average([aa.position for aa in atoms[site]], axis=0)\n",
    "position[1] += 0\n",
    "position[2] += 5\n",
    "ads_new = ads.copy()\n",
    "ads_new.translate(position)\n",
    "atoms += ads_new"
   ]
  },
  {
   "cell_type": "code",
   "execution_count": 7,
   "metadata": {},
   "outputs": [],
   "source": [
    "X3D(atoms).write(\"/home/jovyan/shared-scratch/kabdelma/high_miller_idx/nebs/211/calculation_2/initial_structure_2/atoms.html\")"
   ]
  },
  {
   "cell_type": "code",
   "execution_count": 37,
   "metadata": {},
   "outputs": [],
   "source": [
    "# write_vasp_input_files(atoms, \n",
    "#         outdir = \"/home/jovyan/shared-scratch/kabdelma/high_miller_idx/nebs/211/calculation_2/initial_structure\")"
   ]
  },
  {
   "cell_type": "code",
   "execution_count": 11,
   "metadata": {},
   "outputs": [],
   "source": [
    "with Trajectory(filename=\"/home/jovyan/shared-scratch/kabdelma/high_miller_idx/nebs/211/calculation_2/initial_structure_2/atoms.traj\"\n",
    "        , mode='w') as traj:\n",
    "    traj.write(atoms,)"
   ]
  },
  {
   "cell_type": "markdown",
   "metadata": {},
   "source": [
    "## final structure"
   ]
  },
  {
   "cell_type": "code",
   "execution_count": 39,
   "metadata": {},
   "outputs": [],
   "source": [
    "# slab atoms\n",
    "atoms = slab_atoms.copy()\n",
    "# Adsorbate atoms.\n",
    "ads = Atoms(\"O\")\n",
    "height = 10.\n",
    "# Add one adsorbate.\n",
    "site = [43, 67, 40, 64]\n",
    "position = np.average([aa.position for aa in atoms[site]], axis=0)\n",
    "position[1] += 0.2\n",
    "position[2] += 0.7\n",
    "ads_new = ads.copy()\n",
    "ads_new.translate(position)\n",
    "atoms += ads_new"
   ]
  },
  {
   "cell_type": "code",
   "execution_count": 40,
   "metadata": {},
   "outputs": [],
   "source": [
    "# Adsorbate atoms.\n",
    "ads = Atoms(\"O\")\n",
    "height = 10.\n",
    "# Add one adsorbate.\n",
    "site = [43, 67, 49]\n",
    "position = np.average([aa.position for aa in atoms[site]], axis=0)\n",
    "# position[1] += 0.2\n",
    "position[2] += 0.7\n",
    "ads_new = ads.copy()\n",
    "ads_new.translate(position)\n",
    "atoms += ads_new"
   ]
  },
  {
   "cell_type": "code",
   "execution_count": 41,
   "metadata": {},
   "outputs": [],
   "source": [
    "X3D(atoms).write(\"/home/jovyan/shared-scratch/kabdelma/high_miller_idx/nebs/211/calculation_2/final_structure/atoms.html\")"
   ]
  },
  {
   "cell_type": "code",
   "execution_count": 42,
   "metadata": {},
   "outputs": [],
   "source": [
    "with Trajectory(filename=\"/home/jovyan/shared-scratch/kabdelma/high_miller_idx/nebs/211/calculation_2/final_structure/atoms.traj\"\n",
    "        , mode='w') as traj:\n",
    "    traj.write(atoms,)"
   ]
  },
  {
   "cell_type": "code",
   "execution_count": 43,
   "metadata": {},
   "outputs": [],
   "source": [
    "# write_vasp_input_files(atoms, \n",
    "#         outdir = \"/home/jovyan/shared-scratch/kabdelma/high_miller_idx/nebs/211/calculation_2/final_structure\")"
   ]
  },
  {
   "cell_type": "markdown",
   "metadata": {},
   "source": [
    "## Configuration 3"
   ]
  },
  {
   "cell_type": "code",
   "execution_count": 54,
   "metadata": {},
   "outputs": [],
   "source": [
    "# slab atoms\n",
    "atoms = slab_atoms.copy()\n",
    "# Adsorbate atoms.\n",
    "ads = molecule(\"O2\")\n",
    "ads.rotate(-90, 'y')\n",
    "# ads.rotate(-90, 'z')\n",
    "height = 10.\n",
    "# Add one adsorbate.\n",
    "site = [43]\n",
    "position = np.average([aa.position for aa in atoms[site]], axis=0)\n",
    "position[1] += 0\n",
    "position[2] += 3\n",
    "ads_new = ads.copy()\n",
    "ads_new.translate(position)\n",
    "atoms += ads_new"
   ]
  },
  {
   "cell_type": "code",
   "execution_count": 55,
   "metadata": {},
   "outputs": [],
   "source": [
    "X3D(atoms).write(\"/home/jovyan/shared-scratch/kabdelma/high_miller_idx/nebs/211/calculation_3/initial_structure/atoms.html\")"
   ]
  },
  {
   "cell_type": "code",
   "execution_count": 56,
   "metadata": {},
   "outputs": [],
   "source": [
    "# write_vasp_input_files(atoms, \n",
    "#         outdir = \"/home/jovyan/shared-scratch/kabdelma/high_miller_idx/nebs/211/calculation_3/initial_structure\")"
   ]
  },
  {
   "cell_type": "code",
   "execution_count": 57,
   "metadata": {},
   "outputs": [],
   "source": [
    "with Trajectory(filename=\"/home/jovyan/shared-scratch/kabdelma/high_miller_idx/nebs/211/calculation_3/initial_structure/atoms.traj\"\n",
    "        , mode='w') as traj:\n",
    "    traj.write(atoms,)"
   ]
  },
  {
   "cell_type": "code",
   "execution_count": 58,
   "metadata": {},
   "outputs": [],
   "source": [
    "# slab atoms\n",
    "atoms = slab_atoms.copy()\n",
    "# Adsorbate atoms.\n",
    "ads = Atoms(\"O\")\n",
    "height = 10.\n",
    "# Add one adsorbate.\n",
    "site = [19, 43, 16, 40]\n",
    "position = np.average([aa.position for aa in atoms[site]], axis=0)\n",
    "position[1] += 0.2\n",
    "position[2] += 0.7\n",
    "ads_new = ads.copy()\n",
    "ads_new.translate(position)\n",
    "atoms += ads_new"
   ]
  },
  {
   "cell_type": "code",
   "execution_count": 59,
   "metadata": {},
   "outputs": [],
   "source": [
    "# Adsorbate atoms.\n",
    "ads = Atoms(\"O\")\n",
    "height = 10.\n",
    "# Add one adsorbate.\n",
    "site = [64, 43, 67, 40]\n",
    "position = np.average([aa.position for aa in atoms[site]], axis=0)\n",
    "position[1] += 0.2\n",
    "position[2] += 0.7\n",
    "ads_new = ads.copy()\n",
    "ads_new.translate(position)\n",
    "atoms += ads_new"
   ]
  },
  {
   "cell_type": "code",
   "execution_count": 60,
   "metadata": {},
   "outputs": [],
   "source": [
    "X3D(atoms).write(\"/home/jovyan/shared-scratch/kabdelma/high_miller_idx/nebs/211/calculation_3/final_structure/atoms.html\")"
   ]
  },
  {
   "cell_type": "code",
   "execution_count": 157,
   "metadata": {},
   "outputs": [],
   "source": [
    "# write_vasp_input_files(atoms, \n",
    "#         outdir = \"/home/jovyan/shared-scratch/kabdelma/high_miller_idx/nebs/211/calculation_3/final_structure\")"
   ]
  },
  {
   "cell_type": "code",
   "execution_count": null,
   "metadata": {},
   "outputs": [],
   "source": [
    "with Trajectory(filename=\"/home/jovyan/shared-scratch/kabdelma/high_miller_idx/nebs/211/calculation_3/final_structure/atoms.traj\"\n",
    "        , mode='w') as traj:\n",
    "    traj.write(atoms,)"
   ]
  }
 ],
 "metadata": {
  "kernelspec": {
   "display_name": "Python 3 (ipykernel)",
   "language": "python",
   "name": "python3"
  },
  "language_info": {
   "codemirror_mode": {
    "name": "ipython",
    "version": 3
   },
   "file_extension": ".py",
   "mimetype": "text/x-python",
   "name": "python",
   "nbconvert_exporter": "python",
   "pygments_lexer": "ipython3",
   "version": "3.9.15"
  }
 },
 "nbformat": 4,
 "nbformat_minor": 2
}
