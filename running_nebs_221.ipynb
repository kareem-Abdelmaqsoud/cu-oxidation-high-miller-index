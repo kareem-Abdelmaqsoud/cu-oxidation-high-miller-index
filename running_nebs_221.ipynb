{
 "cells": [
  {
   "cell_type": "code",
   "execution_count": 24,
   "metadata": {},
   "outputs": [],
   "source": [
    "# from adsorbate_slab_config_fixed_seed import AdsorbateSlabConfig\n",
    "from ocdata.core import Adsorbate, Bulk, Slab \n",
    "from ocdata.utils.vasp import write_vasp_input_files\n",
    "from ocdata.core import Adsorbate, AdsorbateSlabConfig, Bulk, Slab\n",
    "from ase.io import read\n",
    "import numpy as np\n",
    "from random import randint\n",
    "import pandas as pd\n",
    "from ase.io.trajectory import Trajectory\n",
    "from tqdm import tqdm\n",
    "import matplotlib.pyplot as plt\n",
    "from ase import Atoms\n",
    "from x3dase.x3d import X3D\n",
    "from ase.constraints import FixAtoms\n",
    "import warnings\n",
    "warnings.filterwarnings('ignore')"
   ]
  },
  {
   "cell_type": "markdown",
   "metadata": {},
   "source": [
    "## (211) surface"
   ]
  },
  {
   "cell_type": "markdown",
   "metadata": {},
   "source": [
    "## Add spin polarization"
   ]
  },
  {
   "cell_type": "code",
   "execution_count": 9,
   "metadata": {},
   "outputs": [],
   "source": [
    "# bulk = Bulk(bulk_src_id_from_db = \"mp-30\",\n",
    "# bulk_db_path = \"/home/jovyan/shared-scratch/kabdelma/Open-Catalyst-Dataset/ocdata/databases/pkls/bulks.pkl\")\n",
    "# slabs = Slab.from_bulk_get_specific_millers((2,1,1), bulk = bulk,)\n",
    "# slab = slabs[0]"
   ]
  },
  {
   "cell_type": "code",
   "execution_count": 25,
   "metadata": {},
   "outputs": [],
   "source": [
    "bulk = Bulk(bulk_src_id_from_db = \"mp-30\",\n",
    "bulk_db_path = \"/home/jovyan/shared-scratch/kabdelma/Open-Catalyst-Dataset/ocdata/databases/pkls/bulks.pkl\")\n",
    "slab_atoms = Slab.from_bulk_get_specific_millers((2,2,1), bulk = bulk)[0].atoms\n",
    "# del slab_atoms[[aa.index for aa in slab_atoms if aa.position[1] < 15.38]]\n",
    "# slab_atoms.constraints = FixAtoms(indices = [aa.index for aa in slab_atoms if aa.position[2] < 19.14])\n",
    "# slab_atoms.center(vacuum=15/2, axis=2)\n",
    "# print(len(slab_atoms.constraints[0].index))\n",
    "# len(slab_atoms)"
   ]
  },
  {
   "cell_type": "code",
   "execution_count": 26,
   "metadata": {},
   "outputs": [
    {
     "data": {
      "text/plain": [
       "Atoms(symbols='Cu160', pbc=True, cell=[[10.400372172423788, 0.0, 6.368391245449998e-16], [2.5025126276240997e-15, 15.561702511480132, -1.1003785372675376], [0.0, 0.0, 36.86268099846235]], bulk_equivalent=..., bulk_wyckoff=..., tags=..., constraint=FixAtoms(indices=[0, 1, 2, 3, 4, 5, 6, 7, 8, 9, 10, 11, 13, 15, 17, 19, 20, 21, 22, 23, 24, 25, 26, 27, 28, 29, 30, 31, 33, 35, 37, 39, 40, 41, 42, 43, 44, 45, 46, 47, 48, 49, 50, 51, 53, 55, 57, 59, 60, 61, 62, 63, 64, 65, 66, 67, 68, 69, 70, 71, 73, 75, 77, 79, 80, 81, 82, 83, 84, 85, 86, 87, 88, 89, 90, 91, 93, 95, 97, 99, 100, 101, 102, 103, 104, 105, 106, 107, 108, 109, 110, 111, 113, 115, 117, 119, 120, 121, 122, 123, 124, 125, 126, 127, 128, 129, 130, 131, 133, 135, 137, 139, 140, 141, 142, 143, 144, 145, 146, 147, 148, 149, 150, 151, 153, 155, 157, 159]))"
      ]
     },
     "execution_count": 26,
     "metadata": {},
     "output_type": "execute_result"
    }
   ],
   "source": [
    "slab_atoms"
   ]
  },
  {
   "cell_type": "code",
   "execution_count": 27,
   "metadata": {},
   "outputs": [],
   "source": [
    "X3D(slab_atoms).write(\"atoms.html\")"
   ]
  },
  {
   "cell_type": "markdown",
   "metadata": {},
   "source": [
    "## create the initial structure"
   ]
  },
  {
   "cell_type": "code",
   "execution_count": 28,
   "metadata": {},
   "outputs": [],
   "source": [
    "from ase.build import molecule\n",
    "# slab atoms\n",
    "atoms = slab_atoms.copy()\n",
    "# Adsorbate atoms.\n",
    "ads = molecule(\"O2\")\n",
    "ads.rotate(-90, 'y')\n",
    "height = 10.\n",
    "# Add one adsorbate.\n",
    "site = [72,]\n",
    "position = np.average([aa.position for aa in atoms[site]], axis=0)\n",
    "position[1] += 0\n",
    "position[2] += 5\n",
    "ads_new = ads.copy()\n",
    "ads_new.translate(position)\n",
    "atoms += ads_new"
   ]
  },
  {
   "cell_type": "code",
   "execution_count": 29,
   "metadata": {},
   "outputs": [],
   "source": [
    "X3D(atoms).write(\"/home/jovyan/shared-scratch/kabdelma/high_miller_idx/nebs/221/calculation_1/initial_structure/atoms.html\")"
   ]
  },
  {
   "cell_type": "code",
   "execution_count": 10,
   "metadata": {},
   "outputs": [],
   "source": [
    "# write_vasp_input_files(atoms, \n",
    "#         outdir = \"/home/jovyan/shared-scratch/kabdelma/high_miller_idx/nebs/211/calculation_1/initial_structure\")"
   ]
  },
  {
   "cell_type": "code",
   "execution_count": 30,
   "metadata": {},
   "outputs": [],
   "source": [
    "with Trajectory(filename=\"/home/jovyan/shared-scratch/kabdelma/high_miller_idx/nebs/221/calculation_1/initial_structure/atoms.traj\"\n",
    "                , mode='w') as traj:\n",
    "    traj.write(atoms,)"
   ]
  },
  {
   "cell_type": "markdown",
   "metadata": {},
   "source": [
    "# create the final structure"
   ]
  },
  {
   "cell_type": "code",
   "execution_count": 31,
   "metadata": {},
   "outputs": [],
   "source": [
    "# slab atoms\n",
    "atoms = slab_atoms.copy()\n",
    "# Adsorbate atoms.\n",
    "ads = Atoms(\"O\")\n",
    "height = 10.\n",
    "# Add one adsorbate.\n",
    "site = [32, 72,]\n",
    "position = np.average([aa.position for aa in atoms[site]], axis=0)\n",
    "# position[1] += 0.2\n",
    "position[2] += 0.7\n",
    "ads_new = ads.copy()\n",
    "ads_new.translate(position)\n",
    "atoms += ads_new"
   ]
  },
  {
   "cell_type": "code",
   "execution_count": 32,
   "metadata": {},
   "outputs": [],
   "source": [
    "# Adsorbate atoms.\n",
    "ads = Atoms(\"O\")\n",
    "height = 10.\n",
    "# Add one adsorbate.\n",
    "site = [72, 112]\n",
    "position = np.average([aa.position for aa in atoms[site]], axis=0)\n",
    "# position[1] += 0.2\n",
    "position[2] += 0.7\n",
    "ads_new = ads.copy()\n",
    "ads_new.translate(position)\n",
    "atoms += ads_new"
   ]
  },
  {
   "cell_type": "code",
   "execution_count": 33,
   "metadata": {},
   "outputs": [],
   "source": [
    "X3D(atoms).write(\"/home/jovyan/shared-scratch/kabdelma/high_miller_idx/nebs/221/calculation_1/final_structure/atoms.html\")"
   ]
  },
  {
   "cell_type": "code",
   "execution_count": 143,
   "metadata": {},
   "outputs": [],
   "source": [
    "# write_vasp_input_files(atoms, \n",
    "#         outdir = \"/home/jovyan/shared-scratch/kabdelma/high_miller_idx/nebs/211/calculation_1/final_structure\")"
   ]
  },
  {
   "cell_type": "code",
   "execution_count": 34,
   "metadata": {},
   "outputs": [],
   "source": [
    "with Trajectory(filename=\"/home/jovyan/shared-scratch/kabdelma/high_miller_idx/nebs/221/calculation_1/final_structure/atoms.traj\"\n",
    "        , mode='w') as traj:\n",
    "    traj.write(atoms,)"
   ]
  },
  {
   "cell_type": "markdown",
   "metadata": {},
   "source": [
    "## configuration 2"
   ]
  },
  {
   "cell_type": "code",
   "execution_count": 35,
   "metadata": {},
   "outputs": [],
   "source": [
    "# slab atoms\n",
    "atoms = slab_atoms.copy()\n",
    "# Adsorbate atoms.\n",
    "ads = molecule(\"O2\")\n",
    "ads.rotate(-90, 'y')\n",
    "ads.rotate(-90, 'z')\n",
    "height = 10.\n",
    "# Add one adsorbate.\n",
    "site = [72,112]\n",
    "position = np.average([aa.position for aa in atoms[site]], axis=0)\n",
    "position[1] += 0\n",
    "position[2] += 5\n",
    "ads_new = ads.copy()\n",
    "ads_new.translate(position)\n",
    "atoms += ads_new"
   ]
  },
  {
   "cell_type": "code",
   "execution_count": 36,
   "metadata": {},
   "outputs": [],
   "source": [
    "X3D(atoms).write(\"/home/jovyan/shared-scratch/kabdelma/high_miller_idx/nebs/221/calculation_2/initial_structure/atoms.html\")"
   ]
  },
  {
   "cell_type": "code",
   "execution_count": 37,
   "metadata": {},
   "outputs": [],
   "source": [
    "# write_vasp_input_files(atoms, \n",
    "#         outdir = \"/home/jovyan/shared-scratch/kabdelma/high_miller_idx/nebs/211/calculation_2/initial_structure\")"
   ]
  },
  {
   "cell_type": "code",
   "execution_count": 37,
   "metadata": {},
   "outputs": [],
   "source": [
    "with Trajectory(filename=\"/home/jovyan/shared-scratch/kabdelma/high_miller_idx/nebs/221/calculation_2/initial_structure/atoms.traj\"\n",
    "        , mode='w') as traj:\n",
    "    traj.write(atoms,)"
   ]
  },
  {
   "cell_type": "markdown",
   "metadata": {},
   "source": [
    "## final structure"
   ]
  },
  {
   "cell_type": "code",
   "execution_count": 38,
   "metadata": {},
   "outputs": [],
   "source": [
    "# slab atoms\n",
    "atoms = slab_atoms.copy()\n",
    "# Adsorbate atoms.\n",
    "ads = Atoms(\"O\")\n",
    "height = 10.\n",
    "# Add one adsorbate.\n",
    "site = [116, 114, 74,]\n",
    "position = np.average([aa.position for aa in atoms[site]], axis=0)\n",
    "position[1] += 0.2\n",
    "position[2] += 0.7\n",
    "ads_new = ads.copy()\n",
    "ads_new.translate(position)\n",
    "atoms += ads_new"
   ]
  },
  {
   "cell_type": "code",
   "execution_count": 39,
   "metadata": {},
   "outputs": [],
   "source": [
    "# Adsorbate atoms.\n",
    "ads = Atoms(\"O\")\n",
    "height = 10.\n",
    "# Add one adsorbate.\n",
    "site = [72, 112, 118]\n",
    "position = np.average([aa.position for aa in atoms[site]], axis=0)\n",
    "# position[1] += 0.2\n",
    "position[2] += 0.7\n",
    "ads_new = ads.copy()\n",
    "ads_new.translate(position)\n",
    "atoms += ads_new"
   ]
  },
  {
   "cell_type": "code",
   "execution_count": 40,
   "metadata": {},
   "outputs": [],
   "source": [
    "X3D(atoms).write(\"/home/jovyan/shared-scratch/kabdelma/high_miller_idx/nebs/221/calculation_2/final_structure/atoms.html\")"
   ]
  },
  {
   "cell_type": "code",
   "execution_count": 41,
   "metadata": {},
   "outputs": [],
   "source": [
    "with Trajectory(filename=\"/home/jovyan/shared-scratch/kabdelma/high_miller_idx/nebs/221/calculation_2/final_structure/atoms.traj\"\n",
    "        , mode='w') as traj:\n",
    "    traj.write(atoms,)"
   ]
  },
  {
   "cell_type": "code",
   "execution_count": 43,
   "metadata": {},
   "outputs": [],
   "source": [
    "# write_vasp_input_files(atoms, \n",
    "#         outdir = \"/home/jovyan/shared-scratch/kabdelma/high_miller_idx/nebs/211/calculation_2/final_structure\")"
   ]
  },
  {
   "cell_type": "markdown",
   "metadata": {},
   "source": [
    "## Configuration 3"
   ]
  },
  {
   "cell_type": "code",
   "execution_count": 46,
   "metadata": {},
   "outputs": [],
   "source": [
    "# slab atoms\n",
    "atoms = slab_atoms.copy()\n",
    "# Adsorbate atoms.\n",
    "ads = molecule(\"O2\")\n",
    "ads.rotate(-90, 'y')\n",
    "# ads.rotate(-90, 'z')\n",
    "height = 10.\n",
    "# Add one adsorbate.\n",
    "site = [72,112]\n",
    "position = np.average([aa.position for aa in atoms[site]], axis=0)\n",
    "position[1] += 0\n",
    "position[2] += 5\n",
    "ads_new = ads.copy()\n",
    "ads_new.translate(position)\n",
    "atoms += ads_new"
   ]
  },
  {
   "cell_type": "code",
   "execution_count": 47,
   "metadata": {},
   "outputs": [],
   "source": [
    "X3D(atoms).write(\"/home/jovyan/shared-scratch/kabdelma/high_miller_idx/nebs/221/calculation_3/initial_structure/atoms.html\")"
   ]
  },
  {
   "cell_type": "code",
   "execution_count": 48,
   "metadata": {},
   "outputs": [],
   "source": [
    "# write_vasp_input_files(atoms, \n",
    "#         outdir = \"/home/jovyan/shared-scratch/kabdelma/high_miller_idx/nebs/211/calculation_3/initial_structure\")"
   ]
  },
  {
   "cell_type": "code",
   "execution_count": 49,
   "metadata": {},
   "outputs": [],
   "source": [
    "with Trajectory(filename=\"/home/jovyan/shared-scratch/kabdelma/high_miller_idx/nebs/221/calculation_3/initial_structure/atoms.traj\"\n",
    "        , mode='w') as traj:\n",
    "    traj.write(atoms,)"
   ]
  },
  {
   "cell_type": "code",
   "execution_count": 50,
   "metadata": {},
   "outputs": [],
   "source": [
    "# slab atoms\n",
    "atoms = slab_atoms.copy()\n",
    "# Adsorbate atoms.\n",
    "ads = Atoms(\"O\")\n",
    "height = 10.\n",
    "# Add one adsorbate.\n",
    "site = [72, 76, 74, 116]\n",
    "position = np.average([aa.position for aa in atoms[site]], axis=0)\n",
    "position[1] += 0.2\n",
    "position[2] += 0.7\n",
    "ads_new = ads.copy()\n",
    "ads_new.translate(position)\n",
    "atoms += ads_new"
   ]
  },
  {
   "cell_type": "code",
   "execution_count": 51,
   "metadata": {},
   "outputs": [],
   "source": [
    "# Adsorbate atoms.\n",
    "ads = Atoms(\"O\")\n",
    "height = 10.\n",
    "# Add one adsorbate.\n",
    "site = [116, 112, 114, 156]\n",
    "position = np.average([aa.position for aa in atoms[site]], axis=0)\n",
    "position[1] += 0.2\n",
    "position[2] += 0.7\n",
    "ads_new = ads.copy()\n",
    "ads_new.translate(position)\n",
    "atoms += ads_new"
   ]
  },
  {
   "cell_type": "code",
   "execution_count": 52,
   "metadata": {},
   "outputs": [],
   "source": [
    "X3D(atoms).write(\"/home/jovyan/shared-scratch/kabdelma/high_miller_idx/nebs/221/calculation_3/final_structure/atoms.html\")"
   ]
  },
  {
   "cell_type": "code",
   "execution_count": 53,
   "metadata": {},
   "outputs": [],
   "source": [
    "# write_vasp_input_files(atoms, \n",
    "#         outdir = \"/home/jovyan/shared-scratch/kabdelma/high_miller_idx/nebs/211/calculation_3/final_structure\")"
   ]
  },
  {
   "cell_type": "code",
   "execution_count": 54,
   "metadata": {},
   "outputs": [],
   "source": [
    "with Trajectory(filename=\"/home/jovyan/shared-scratch/kabdelma/high_miller_idx/nebs/221/calculation_3/final_structure/atoms.traj\"\n",
    "        , mode='w') as traj:\n",
    "    traj.write(atoms,)"
   ]
  },
  {
   "cell_type": "code",
   "execution_count": 56,
   "metadata": {},
   "outputs": [
    {
     "data": {
      "text/plain": [
       "Atoms(symbols='Cu160', pbc=True, cell=[[10.400372172423788, 0.0, 6.368391245449998e-16], [2.5025126276240997e-15, 15.561702511480132, -1.1003785372675376], [0.0, 0.0, 36.86268099846235]], bulk_equivalent=..., bulk_wyckoff=..., tags=..., constraint=FixAtoms(indices=[0, 1, 2, 3, 4, 5, 6, 7, 8, 9, 10, 11, 13, 15, 17, 19, 20, 21, 22, 23, 24, 25, 26, 27, 28, 29, 30, 31, 33, 35, 37, 39, 40, 41, 42, 43, 44, 45, 46, 47, 48, 49, 50, 51, 53, 55, 57, 59, 60, 61, 62, 63, 64, 65, 66, 67, 68, 69, 70, 71, 73, 75, 77, 79, 80, 81, 82, 83, 84, 85, 86, 87, 88, 89, 90, 91, 93, 95, 97, 99, 100, 101, 102, 103, 104, 105, 106, 107, 108, 109, 110, 111, 113, 115, 117, 119, 120, 121, 122, 123, 124, 125, 126, 127, 128, 129, 130, 131, 133, 135, 137, 139, 140, 141, 142, 143, 144, 145, 146, 147, 148, 149, 150, 151, 153, 155, 157, 159]))"
      ]
     },
     "execution_count": 56,
     "metadata": {},
     "output_type": "execute_result"
    }
   ],
   "source": [
    "slab_atoms"
   ]
  },
  {
   "cell_type": "code",
   "execution_count": null,
   "metadata": {},
   "outputs": [],
   "source": []
  }
 ],
 "metadata": {
  "kernelspec": {
   "display_name": "base",
   "language": "python",
   "name": "python3"
  },
  "language_info": {
   "codemirror_mode": {
    "name": "ipython",
    "version": 3
   },
   "file_extension": ".py",
   "mimetype": "text/x-python",
   "name": "python",
   "nbconvert_exporter": "python",
   "pygments_lexer": "ipython3",
   "version": "3.9.15"
  }
 },
 "nbformat": 4,
 "nbformat_minor": 2
}
